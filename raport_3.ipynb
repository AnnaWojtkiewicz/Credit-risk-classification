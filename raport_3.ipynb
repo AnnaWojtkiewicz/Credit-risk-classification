{
 "cells": [
  {
   "cell_type": "markdown",
   "id": "750932e3-dcb0-4b69-9088-bb61943192d4",
   "metadata": {},
   "source": [
    "# Wprowadzenie  \n",
    "\n",
    "Celem niniejszego raportu jest przeprowadzenie analizy portfela kredytowego na podstawie udostępnionych danych. Analiza obejmuje oznaczenie portfela niepracujacego, czyli identyfikację przypadków niewykonania zobowiązania (default), obliczenie miar ryzyka kredytowego (ODR) oraz modelowanie prawdopodobieństwa wystąpienia defaultu (PD) w horyzoncie 12-miesięcznym.  \n",
    "\n",
    "Dane zawierają szczegółowe informacje dotyczące kredytów, w tym m.in. daty uruchomienia i bieżące saldo (*Start_dte, Bal_amt*), liczbę dni przeterminowania (*Dpd*), status windykacyjny (*Fl_windykacji*), wystąpienie zgonu kredytobiorców (*Fl_smierc*), oraz dane dotyczące przeterminowania w ujęciu jakościowym (*DMA*). Dodatkowo dane zawierają informacje o umorzeniach oraz założona stopa dyskontowa wynosząca 9%.  \n",
    "\n",
    "***  \n",
    "\n",
    "**W pierwszej części** raportu skupimy się na oznaczeniu portfela niepracującego (default) zgodnie z poniższą definicją:   \n",
    "\n",
    "*Produkt zostaje przeklasyfikowany do portfela niepracującego jeżeli spełniony jest co najmniej jeden z poniższych warunków:*  \n",
    "\n",
    "* *rachunek znajduje się w windykacji*,\n",
    "\n",
    "* *przeterminowanie > 400 PLN i > 1% wartości ekspozycji przekracza 90 dni*,\n",
    "\n",
    "* *nastąpiła śmierć wszystkich kredytobiorców.*\n",
    "\n",
    "Ponadto oznaczymy rachunki, które powróciły do portfela pracującego (*cure*) zgodnie z poniższą definicją:  \n",
    "\n",
    "*Rachunek oznaczany jest jako *cure* jeśli przestał spełniać definicję \n",
    "defaulta i przez 3 kolejne miesiące posiadał prawidłową obsługę tj. nie posiadał więcej niż 30 dni przeterminowania (DMA).*  \n",
    "\n",
    "***  \n",
    "\n",
    "**W drugiej części** raportu wyznaczymy uzyskana liczbę defaultów oraz obserwowany odsetek niewykonania zobowiązania zgodnie z definicją: $$ODR_t=\\frac{\\text{liczba ekspozycji, które zdefaultują w ciągu roku od momentu t}}{\\text{liczba wszystkich ekspozycji w portfelu pracującym w okresie t}}$$\n",
    "\n",
    "***  \n",
    "\n",
    "**W trzeciej części** raportu zamodelujemy PD, czyli przypiszemy oczekiwane prawopodobieństwo wystąpienia zdarzenia default w ciągu koljenych 12 miesięcy do wybranych grup ryzyka. Podział na grupy ryzyka zostanie wybrany przez odpowiednio zamodelowane drzewo decyzyjne. \n"
   ]
  },
  {
   "cell_type": "markdown",
   "id": "eee7e1ab-1087-4284-a17d-6e972937281f",
   "metadata": {},
   "source": [
    "***  \n",
    "\n",
    "## Część I  \n",
    "\n",
    "Zaczniemy od wczytania i analizy dostępnych danych.  \n",
    "Dla spójności musimy zmienić typ danych oznaczających daty na *datetime*. Ponadto dla większej czytelności zamieniamy daty w następujący sposób: *Każdy rok jest mnożony przez 12, a następnie dodawany do numeru miesiąca, tworząc unikalny identyfikator okresu.*"
   ]
  },
  {
   "cell_type": "code",
   "execution_count": 1,
   "id": "394b826d-b438-4e5f-8577-21a25f50a6a9",
   "metadata": {},
   "outputs": [],
   "source": [
    "import pandas as pd\n",
    "import numpy as np\n",
    "df_kredyty = pd.read_parquet(\"C:/Users/wojtk/OneDrive/Pulpit/studia/zastosowanie modelowania w bankowości/raport 3/dane_lista3/kredyty.parquet\")\n",
    "df_dma = pd.read_parquet('C:/Users/wojtk/OneDrive/Pulpit/studia/zastosowanie modelowania w bankowości/raport 3/dane_lista3/DMA.parquet')\n",
    "df_um = pd.read_parquet('C:/Users/wojtk/OneDrive/Pulpit/studia/zastosowanie modelowania w bankowości/raport 3/dane_lista3/umorzenia.parquet')\n",
    "\n",
    "df_kredyty['period_dte'] = pd.to_datetime(df_kredyty['period_dte'])\n",
    "df_kredyty['start_dte'] = pd.to_datetime(df_kredyty['start_dte'])\n",
    "df_dma['period_dte'] = pd.to_datetime(df_dma['period_dte'])\n",
    "\n",
    "df_kredyty['period_id'] = 12* df_kredyty['period_dte'].dt.year + df_kredyty['period_dte'].dt.month\n",
    "df_dma['period_id'] = 12* df_dma['period_dte'].dt.year + df_dma['period_dte'].dt.month"
   ]
  },
  {
   "cell_type": "markdown",
   "id": "78889c1a-4933-4d0c-89c7-0a7a2d873088",
   "metadata": {},
   "source": [
    "Przejdźmy teraz do identyfikacji przypadków niewykonania zobowiązań (default).  \n",
    "\n",
    "Zgodnie z przyjętą wyżej definicją niewykonania zobowiązania (default), na podstawie danych dotyczących kredytów utworzono nową zmienną pomocniczą *fl_npl* (non-performing loan), która przyjmuje wartość:  \n",
    "\n",
    "* **0**, gdy kredyt jest uznawany za pracujący (nie spełnia żadnego z warunków defaultu),  \n",
    "\n",
    "* **1**, gdy kredyt kwalifikuje się jako niepracujący (spełniony został co najmniej jeden z warunków defaultu).\n",
    "\n",
    "Sprawdzimy również czy dane są kompletne (pojawianie się wartości NaN). Dla obserwacji, w których kategoria *dma* jest nieokreślona obserwujemy, że flaga windykacji jak i flaga śmierci są równe 0. W takim przypadku nie jesteśmy w stanie określić statusu portfela dla tych obserwacji, więc usuniemy je z naszych danych. "
   ]
  },
  {
   "cell_type": "code",
   "execution_count": 2,
   "id": "42cce96e-e17f-47c4-b2d7-6130f6337416",
   "metadata": {},
   "outputs": [],
   "source": [
    "df_kredyty['fl_npl'] = 0 #dac kredyt - 0, nie dac 1 bo wtedy ktores na dole jest spelnione\n",
    "\n",
    "df_kredyty=pd.merge(left=df_kredyty,\n",
    "                      right=df_dma[['id_kredytu','period_dte','dma']],\n",
    "                      left_on=['id_kredytu','period_dte'],\n",
    "                     right_on=['id_kredytu','period_dte'],\n",
    "                     how='left')\n",
    "\n",
    "df_kredyty.loc[df_kredyty['fl_windykacji']==1,'fl_npl']=1 \n",
    "\n",
    "df_kredyty.loc[df_kredyty['fl_smierc']==1,'fl_npl']=1\n",
    "\n",
    "\n",
    "\n",
    "df_kredyty.loc[df_kredyty['dma']>90,'fl_npl']=1"
   ]
  },
  {
   "cell_type": "code",
   "execution_count": 13,
   "id": "4f058ce8-23c3-4e98-9295-21c85ceda458",
   "metadata": {},
   "outputs": [],
   "source": [
    "df_kredyty.isna().sum()\n",
    "df_kredyty[df_kredyty['dma'].isna()]\n",
    "df_kredyty=df_kredyty.loc[df_kredyty.dma.isna()==False, :].copy()"
   ]
  },
  {
   "cell_type": "code",
   "execution_count": 14,
   "id": "7838a343-4058-4907-8bae-e4ca54da85b3",
   "metadata": {},
   "outputs": [
    {
     "data": {
      "application/vnd.plotly.v1+json": {
       "config": {
        "plotlyServerURL": "https://plot.ly"
       },
       "data": [
        {
         "line": {
          "color": "green"
         },
         "mode": "lines+markers",
         "name": "Kredyty pracujące",
         "type": "scatter",
         "x": [
          "2015-01-01T00:00:00",
          "2015-02-01T00:00:00",
          "2015-03-01T00:00:00",
          "2015-04-01T00:00:00",
          "2015-05-01T00:00:00",
          "2015-06-01T00:00:00",
          "2015-07-01T00:00:00",
          "2015-08-01T00:00:00",
          "2015-09-01T00:00:00",
          "2015-10-01T00:00:00",
          "2015-11-01T00:00:00",
          "2015-12-01T00:00:00",
          "2016-01-01T00:00:00",
          "2016-02-01T00:00:00",
          "2016-03-01T00:00:00",
          "2016-04-01T00:00:00",
          "2016-05-01T00:00:00",
          "2016-06-01T00:00:00",
          "2016-07-01T00:00:00",
          "2016-08-01T00:00:00",
          "2016-09-01T00:00:00",
          "2016-10-01T00:00:00",
          "2016-11-01T00:00:00",
          "2016-12-01T00:00:00",
          "2017-01-01T00:00:00",
          "2017-02-01T00:00:00",
          "2017-03-01T00:00:00",
          "2017-04-01T00:00:00",
          "2017-05-01T00:00:00",
          "2017-06-01T00:00:00",
          "2017-07-01T00:00:00",
          "2017-08-01T00:00:00",
          "2017-09-01T00:00:00",
          "2017-10-01T00:00:00",
          "2017-11-01T00:00:00",
          "2017-12-01T00:00:00",
          "2018-01-01T00:00:00",
          "2018-02-01T00:00:00",
          "2018-03-01T00:00:00",
          "2018-04-01T00:00:00",
          "2018-05-01T00:00:00",
          "2018-06-01T00:00:00",
          "2018-07-01T00:00:00",
          "2018-08-01T00:00:00",
          "2018-09-01T00:00:00",
          "2018-10-01T00:00:00",
          "2018-11-01T00:00:00",
          "2018-12-01T00:00:00",
          "2019-01-01T00:00:00",
          "2019-02-01T00:00:00",
          "2019-03-01T00:00:00",
          "2019-04-01T00:00:00",
          "2019-05-01T00:00:00",
          "2019-06-01T00:00:00",
          "2019-07-01T00:00:00",
          "2019-08-01T00:00:00",
          "2019-09-01T00:00:00",
          "2019-10-01T00:00:00",
          "2019-11-01T00:00:00",
          "2019-12-01T00:00:00",
          "2020-01-01T00:00:00",
          "2020-02-01T00:00:00",
          "2020-03-01T00:00:00",
          "2020-04-01T00:00:00",
          "2020-05-01T00:00:00",
          "2020-06-01T00:00:00",
          "2020-07-01T00:00:00",
          "2020-08-01T00:00:00",
          "2020-09-01T00:00:00",
          "2020-10-01T00:00:00",
          "2020-11-01T00:00:00",
          "2020-12-01T00:00:00",
          "2021-01-01T00:00:00",
          "2021-02-01T00:00:00",
          "2021-03-01T00:00:00",
          "2021-04-01T00:00:00",
          "2021-05-01T00:00:00",
          "2021-06-01T00:00:00",
          "2021-07-01T00:00:00",
          "2021-08-01T00:00:00",
          "2021-09-01T00:00:00",
          "2021-10-01T00:00:00",
          "2021-11-01T00:00:00",
          "2021-12-01T00:00:00",
          "2022-01-01T00:00:00",
          "2022-02-01T00:00:00",
          "2022-03-01T00:00:00"
         ],
         "y": [
          945,
          947,
          947,
          925,
          907,
          906,
          917,
          924,
          927,
          925,
          932,
          945,
          929,
          964,
          967,
          982,
          978,
          967,
          961,
          976,
          962,
          956,
          964,
          983,
          983,
          984,
          991,
          986,
          990,
          1002,
          1014,
          1020,
          1030,
          1038,
          1034,
          1029,
          1042,
          1039,
          1036,
          1055,
          1061,
          1059,
          1054,
          1065,
          1071,
          1079,
          1096,
          1094,
          1108,
          1120,
          1127,
          1156,
          1166,
          1179,
          1206,
          1238,
          1247,
          1268,
          1272,
          1284,
          1266,
          1302,
          1288,
          1266,
          1279,
          1283,
          1283,
          1277,
          1265,
          1254,
          1243,
          1230,
          1215,
          1205,
          1208,
          1219,
          1228,
          1222,
          1228,
          1229,
          1218,
          1213,
          1219,
          1198,
          1165,
          1153,
          1147
         ]
        },
        {
         "line": {
          "color": "red"
         },
         "mode": "lines+markers",
         "name": "Kredyty niepracujące",
         "type": "scatter",
         "x": [
          "2015-01-01T00:00:00",
          "2015-02-01T00:00:00",
          "2015-03-01T00:00:00",
          "2015-04-01T00:00:00",
          "2015-05-01T00:00:00",
          "2015-06-01T00:00:00",
          "2015-07-01T00:00:00",
          "2015-08-01T00:00:00",
          "2015-09-01T00:00:00",
          "2015-10-01T00:00:00",
          "2015-11-01T00:00:00",
          "2015-12-01T00:00:00",
          "2016-01-01T00:00:00",
          "2016-02-01T00:00:00",
          "2016-03-01T00:00:00",
          "2016-04-01T00:00:00",
          "2016-05-01T00:00:00",
          "2016-06-01T00:00:00",
          "2016-07-01T00:00:00",
          "2016-08-01T00:00:00",
          "2016-09-01T00:00:00",
          "2016-10-01T00:00:00",
          "2016-11-01T00:00:00",
          "2016-12-01T00:00:00",
          "2017-01-01T00:00:00",
          "2017-02-01T00:00:00",
          "2017-03-01T00:00:00",
          "2017-04-01T00:00:00",
          "2017-05-01T00:00:00",
          "2017-06-01T00:00:00",
          "2017-07-01T00:00:00",
          "2017-08-01T00:00:00",
          "2017-09-01T00:00:00",
          "2017-10-01T00:00:00",
          "2017-11-01T00:00:00",
          "2017-12-01T00:00:00",
          "2018-01-01T00:00:00",
          "2018-02-01T00:00:00",
          "2018-03-01T00:00:00",
          "2018-04-01T00:00:00",
          "2018-05-01T00:00:00",
          "2018-06-01T00:00:00",
          "2018-07-01T00:00:00",
          "2018-08-01T00:00:00",
          "2018-09-01T00:00:00",
          "2018-10-01T00:00:00",
          "2018-11-01T00:00:00",
          "2018-12-01T00:00:00",
          "2019-01-01T00:00:00",
          "2019-02-01T00:00:00",
          "2019-03-01T00:00:00",
          "2019-04-01T00:00:00",
          "2019-05-01T00:00:00",
          "2019-06-01T00:00:00",
          "2019-07-01T00:00:00",
          "2019-08-01T00:00:00",
          "2019-09-01T00:00:00",
          "2019-10-01T00:00:00",
          "2019-11-01T00:00:00",
          "2019-12-01T00:00:00",
          "2020-01-01T00:00:00",
          "2020-02-01T00:00:00",
          "2020-03-01T00:00:00",
          "2020-04-01T00:00:00",
          "2020-05-01T00:00:00",
          "2020-06-01T00:00:00",
          "2020-07-01T00:00:00",
          "2020-08-01T00:00:00",
          "2020-09-01T00:00:00",
          "2020-10-01T00:00:00",
          "2020-11-01T00:00:00",
          "2020-12-01T00:00:00",
          "2021-01-01T00:00:00",
          "2021-02-01T00:00:00",
          "2021-03-01T00:00:00",
          "2021-04-01T00:00:00",
          "2021-05-01T00:00:00",
          "2021-06-01T00:00:00",
          "2021-07-01T00:00:00",
          "2021-08-01T00:00:00",
          "2021-09-01T00:00:00",
          "2021-10-01T00:00:00",
          "2021-11-01T00:00:00",
          "2021-12-01T00:00:00",
          "2022-01-01T00:00:00",
          "2022-02-01T00:00:00",
          "2022-03-01T00:00:00"
         ],
         "y": [
          55,
          60,
          57,
          60,
          62,
          54,
          54,
          56,
          57,
          62,
          58,
          62,
          64,
          71,
          70,
          69,
          72,
          66,
          71,
          71,
          77,
          74,
          78,
          64,
          66,
          68,
          49,
          54,
          52,
          45,
          48,
          55,
          55,
          59,
          46,
          51,
          56,
          60,
          62,
          53,
          58,
          59,
          64,
          66,
          46,
          47,
          50,
          56,
          67,
          72,
          76,
          80,
          65,
          66,
          71,
          77,
          81,
          83,
          84,
          87,
          90,
          78,
          85,
          88,
          88,
          76,
          77,
          83,
          87,
          75,
          75,
          75,
          67,
          69,
          60,
          59,
          64,
          62,
          63,
          46,
          48,
          53,
          51,
          51,
          53,
          48,
          51
         ]
        }
       ],
       "layout": {
        "autosize": true,
        "hovermode": "x unified",
        "legend": {
         "title": {
          "text": "Typ kredytu"
         }
        },
        "template": {
         "data": {
          "bar": [
           {
            "error_x": {
             "color": "#2a3f5f"
            },
            "error_y": {
             "color": "#2a3f5f"
            },
            "marker": {
             "line": {
              "color": "white",
              "width": 0.5
             },
             "pattern": {
              "fillmode": "overlay",
              "size": 10,
              "solidity": 0.2
             }
            },
            "type": "bar"
           }
          ],
          "barpolar": [
           {
            "marker": {
             "line": {
              "color": "white",
              "width": 0.5
             },
             "pattern": {
              "fillmode": "overlay",
              "size": 10,
              "solidity": 0.2
             }
            },
            "type": "barpolar"
           }
          ],
          "carpet": [
           {
            "aaxis": {
             "endlinecolor": "#2a3f5f",
             "gridcolor": "#C8D4E3",
             "linecolor": "#C8D4E3",
             "minorgridcolor": "#C8D4E3",
             "startlinecolor": "#2a3f5f"
            },
            "baxis": {
             "endlinecolor": "#2a3f5f",
             "gridcolor": "#C8D4E3",
             "linecolor": "#C8D4E3",
             "minorgridcolor": "#C8D4E3",
             "startlinecolor": "#2a3f5f"
            },
            "type": "carpet"
           }
          ],
          "choropleth": [
           {
            "colorbar": {
             "outlinewidth": 0,
             "ticks": ""
            },
            "type": "choropleth"
           }
          ],
          "contour": [
           {
            "colorbar": {
             "outlinewidth": 0,
             "ticks": ""
            },
            "colorscale": [
             [
              0,
              "#0d0887"
             ],
             [
              0.1111111111111111,
              "#46039f"
             ],
             [
              0.2222222222222222,
              "#7201a8"
             ],
             [
              0.3333333333333333,
              "#9c179e"
             ],
             [
              0.4444444444444444,
              "#bd3786"
             ],
             [
              0.5555555555555556,
              "#d8576b"
             ],
             [
              0.6666666666666666,
              "#ed7953"
             ],
             [
              0.7777777777777778,
              "#fb9f3a"
             ],
             [
              0.8888888888888888,
              "#fdca26"
             ],
             [
              1,
              "#f0f921"
             ]
            ],
            "type": "contour"
           }
          ],
          "contourcarpet": [
           {
            "colorbar": {
             "outlinewidth": 0,
             "ticks": ""
            },
            "type": "contourcarpet"
           }
          ],
          "heatmap": [
           {
            "colorbar": {
             "outlinewidth": 0,
             "ticks": ""
            },
            "colorscale": [
             [
              0,
              "#0d0887"
             ],
             [
              0.1111111111111111,
              "#46039f"
             ],
             [
              0.2222222222222222,
              "#7201a8"
             ],
             [
              0.3333333333333333,
              "#9c179e"
             ],
             [
              0.4444444444444444,
              "#bd3786"
             ],
             [
              0.5555555555555556,
              "#d8576b"
             ],
             [
              0.6666666666666666,
              "#ed7953"
             ],
             [
              0.7777777777777778,
              "#fb9f3a"
             ],
             [
              0.8888888888888888,
              "#fdca26"
             ],
             [
              1,
              "#f0f921"
             ]
            ],
            "type": "heatmap"
           }
          ],
          "heatmapgl": [
           {
            "colorbar": {
             "outlinewidth": 0,
             "ticks": ""
            },
            "colorscale": [
             [
              0,
              "#0d0887"
             ],
             [
              0.1111111111111111,
              "#46039f"
             ],
             [
              0.2222222222222222,
              "#7201a8"
             ],
             [
              0.3333333333333333,
              "#9c179e"
             ],
             [
              0.4444444444444444,
              "#bd3786"
             ],
             [
              0.5555555555555556,
              "#d8576b"
             ],
             [
              0.6666666666666666,
              "#ed7953"
             ],
             [
              0.7777777777777778,
              "#fb9f3a"
             ],
             [
              0.8888888888888888,
              "#fdca26"
             ],
             [
              1,
              "#f0f921"
             ]
            ],
            "type": "heatmapgl"
           }
          ],
          "histogram": [
           {
            "marker": {
             "pattern": {
              "fillmode": "overlay",
              "size": 10,
              "solidity": 0.2
             }
            },
            "type": "histogram"
           }
          ],
          "histogram2d": [
           {
            "colorbar": {
             "outlinewidth": 0,
             "ticks": ""
            },
            "colorscale": [
             [
              0,
              "#0d0887"
             ],
             [
              0.1111111111111111,
              "#46039f"
             ],
             [
              0.2222222222222222,
              "#7201a8"
             ],
             [
              0.3333333333333333,
              "#9c179e"
             ],
             [
              0.4444444444444444,
              "#bd3786"
             ],
             [
              0.5555555555555556,
              "#d8576b"
             ],
             [
              0.6666666666666666,
              "#ed7953"
             ],
             [
              0.7777777777777778,
              "#fb9f3a"
             ],
             [
              0.8888888888888888,
              "#fdca26"
             ],
             [
              1,
              "#f0f921"
             ]
            ],
            "type": "histogram2d"
           }
          ],
          "histogram2dcontour": [
           {
            "colorbar": {
             "outlinewidth": 0,
             "ticks": ""
            },
            "colorscale": [
             [
              0,
              "#0d0887"
             ],
             [
              0.1111111111111111,
              "#46039f"
             ],
             [
              0.2222222222222222,
              "#7201a8"
             ],
             [
              0.3333333333333333,
              "#9c179e"
             ],
             [
              0.4444444444444444,
              "#bd3786"
             ],
             [
              0.5555555555555556,
              "#d8576b"
             ],
             [
              0.6666666666666666,
              "#ed7953"
             ],
             [
              0.7777777777777778,
              "#fb9f3a"
             ],
             [
              0.8888888888888888,
              "#fdca26"
             ],
             [
              1,
              "#f0f921"
             ]
            ],
            "type": "histogram2dcontour"
           }
          ],
          "mesh3d": [
           {
            "colorbar": {
             "outlinewidth": 0,
             "ticks": ""
            },
            "type": "mesh3d"
           }
          ],
          "parcoords": [
           {
            "line": {
             "colorbar": {
              "outlinewidth": 0,
              "ticks": ""
             }
            },
            "type": "parcoords"
           }
          ],
          "pie": [
           {
            "automargin": true,
            "type": "pie"
           }
          ],
          "scatter": [
           {
            "marker": {
             "colorbar": {
              "outlinewidth": 0,
              "ticks": ""
             }
            },
            "type": "scatter"
           }
          ],
          "scatter3d": [
           {
            "line": {
             "colorbar": {
              "outlinewidth": 0,
              "ticks": ""
             }
            },
            "marker": {
             "colorbar": {
              "outlinewidth": 0,
              "ticks": ""
             }
            },
            "type": "scatter3d"
           }
          ],
          "scattercarpet": [
           {
            "marker": {
             "colorbar": {
              "outlinewidth": 0,
              "ticks": ""
             }
            },
            "type": "scattercarpet"
           }
          ],
          "scattergeo": [
           {
            "marker": {
             "colorbar": {
              "outlinewidth": 0,
              "ticks": ""
             }
            },
            "type": "scattergeo"
           }
          ],
          "scattergl": [
           {
            "marker": {
             "colorbar": {
              "outlinewidth": 0,
              "ticks": ""
             }
            },
            "type": "scattergl"
           }
          ],
          "scattermapbox": [
           {
            "marker": {
             "colorbar": {
              "outlinewidth": 0,
              "ticks": ""
             }
            },
            "type": "scattermapbox"
           }
          ],
          "scatterpolar": [
           {
            "marker": {
             "colorbar": {
              "outlinewidth": 0,
              "ticks": ""
             }
            },
            "type": "scatterpolar"
           }
          ],
          "scatterpolargl": [
           {
            "marker": {
             "colorbar": {
              "outlinewidth": 0,
              "ticks": ""
             }
            },
            "type": "scatterpolargl"
           }
          ],
          "scatterternary": [
           {
            "marker": {
             "colorbar": {
              "outlinewidth": 0,
              "ticks": ""
             }
            },
            "type": "scatterternary"
           }
          ],
          "surface": [
           {
            "colorbar": {
             "outlinewidth": 0,
             "ticks": ""
            },
            "colorscale": [
             [
              0,
              "#0d0887"
             ],
             [
              0.1111111111111111,
              "#46039f"
             ],
             [
              0.2222222222222222,
              "#7201a8"
             ],
             [
              0.3333333333333333,
              "#9c179e"
             ],
             [
              0.4444444444444444,
              "#bd3786"
             ],
             [
              0.5555555555555556,
              "#d8576b"
             ],
             [
              0.6666666666666666,
              "#ed7953"
             ],
             [
              0.7777777777777778,
              "#fb9f3a"
             ],
             [
              0.8888888888888888,
              "#fdca26"
             ],
             [
              1,
              "#f0f921"
             ]
            ],
            "type": "surface"
           }
          ],
          "table": [
           {
            "cells": {
             "fill": {
              "color": "#EBF0F8"
             },
             "line": {
              "color": "white"
             }
            },
            "header": {
             "fill": {
              "color": "#C8D4E3"
             },
             "line": {
              "color": "white"
             }
            },
            "type": "table"
           }
          ]
         },
         "layout": {
          "annotationdefaults": {
           "arrowcolor": "#2a3f5f",
           "arrowhead": 0,
           "arrowwidth": 1
          },
          "autotypenumbers": "strict",
          "coloraxis": {
           "colorbar": {
            "outlinewidth": 0,
            "ticks": ""
           }
          },
          "colorscale": {
           "diverging": [
            [
             0,
             "#8e0152"
            ],
            [
             0.1,
             "#c51b7d"
            ],
            [
             0.2,
             "#de77ae"
            ],
            [
             0.3,
             "#f1b6da"
            ],
            [
             0.4,
             "#fde0ef"
            ],
            [
             0.5,
             "#f7f7f7"
            ],
            [
             0.6,
             "#e6f5d0"
            ],
            [
             0.7,
             "#b8e186"
            ],
            [
             0.8,
             "#7fbc41"
            ],
            [
             0.9,
             "#4d9221"
            ],
            [
             1,
             "#276419"
            ]
           ],
           "sequential": [
            [
             0,
             "#0d0887"
            ],
            [
             0.1111111111111111,
             "#46039f"
            ],
            [
             0.2222222222222222,
             "#7201a8"
            ],
            [
             0.3333333333333333,
             "#9c179e"
            ],
            [
             0.4444444444444444,
             "#bd3786"
            ],
            [
             0.5555555555555556,
             "#d8576b"
            ],
            [
             0.6666666666666666,
             "#ed7953"
            ],
            [
             0.7777777777777778,
             "#fb9f3a"
            ],
            [
             0.8888888888888888,
             "#fdca26"
            ],
            [
             1,
             "#f0f921"
            ]
           ],
           "sequentialminus": [
            [
             0,
             "#0d0887"
            ],
            [
             0.1111111111111111,
             "#46039f"
            ],
            [
             0.2222222222222222,
             "#7201a8"
            ],
            [
             0.3333333333333333,
             "#9c179e"
            ],
            [
             0.4444444444444444,
             "#bd3786"
            ],
            [
             0.5555555555555556,
             "#d8576b"
            ],
            [
             0.6666666666666666,
             "#ed7953"
            ],
            [
             0.7777777777777778,
             "#fb9f3a"
            ],
            [
             0.8888888888888888,
             "#fdca26"
            ],
            [
             1,
             "#f0f921"
            ]
           ]
          },
          "colorway": [
           "#636efa",
           "#EF553B",
           "#00cc96",
           "#ab63fa",
           "#FFA15A",
           "#19d3f3",
           "#FF6692",
           "#B6E880",
           "#FF97FF",
           "#FECB52"
          ],
          "font": {
           "color": "#2a3f5f"
          },
          "geo": {
           "bgcolor": "white",
           "lakecolor": "white",
           "landcolor": "white",
           "showlakes": true,
           "showland": true,
           "subunitcolor": "#C8D4E3"
          },
          "hoverlabel": {
           "align": "left"
          },
          "hovermode": "closest",
          "mapbox": {
           "style": "light"
          },
          "paper_bgcolor": "white",
          "plot_bgcolor": "white",
          "polar": {
           "angularaxis": {
            "gridcolor": "#EBF0F8",
            "linecolor": "#EBF0F8",
            "ticks": ""
           },
           "bgcolor": "white",
           "radialaxis": {
            "gridcolor": "#EBF0F8",
            "linecolor": "#EBF0F8",
            "ticks": ""
           }
          },
          "scene": {
           "xaxis": {
            "backgroundcolor": "white",
            "gridcolor": "#DFE8F3",
            "gridwidth": 2,
            "linecolor": "#EBF0F8",
            "showbackground": true,
            "ticks": "",
            "zerolinecolor": "#EBF0F8"
           },
           "yaxis": {
            "backgroundcolor": "white",
            "gridcolor": "#DFE8F3",
            "gridwidth": 2,
            "linecolor": "#EBF0F8",
            "showbackground": true,
            "ticks": "",
            "zerolinecolor": "#EBF0F8"
           },
           "zaxis": {
            "backgroundcolor": "white",
            "gridcolor": "#DFE8F3",
            "gridwidth": 2,
            "linecolor": "#EBF0F8",
            "showbackground": true,
            "ticks": "",
            "zerolinecolor": "#EBF0F8"
           }
          },
          "shapedefaults": {
           "line": {
            "color": "#2a3f5f"
           }
          },
          "ternary": {
           "aaxis": {
            "gridcolor": "#DFE8F3",
            "linecolor": "#A2B1C6",
            "ticks": ""
           },
           "baxis": {
            "gridcolor": "#DFE8F3",
            "linecolor": "#A2B1C6",
            "ticks": ""
           },
           "bgcolor": "white",
           "caxis": {
            "gridcolor": "#DFE8F3",
            "linecolor": "#A2B1C6",
            "ticks": ""
           }
          },
          "title": {
           "x": 0.05
          },
          "xaxis": {
           "automargin": true,
           "gridcolor": "#EBF0F8",
           "linecolor": "#EBF0F8",
           "ticks": "",
           "title": {
            "standoff": 15
           },
           "zerolinecolor": "#EBF0F8",
           "zerolinewidth": 2
          },
          "yaxis": {
           "automargin": true,
           "gridcolor": "#EBF0F8",
           "linecolor": "#EBF0F8",
           "ticks": "",
           "title": {
            "standoff": 15
           },
           "zerolinecolor": "#EBF0F8",
           "zerolinewidth": 2
          }
         }
        },
        "title": {
         "text": "Liczba kredytów pracujących i niepracujących w czasie"
        },
        "xaxis": {
         "autorange": true,
         "range": [
          "2014-08-01 06:04:37.6576",
          "2022-07-31 17:55:22.3424"
         ],
         "title": {
          "text": "Data"
         },
         "type": "date"
        },
        "yaxis": {
         "autorange": true,
         "range": [
          -38.969635627530366,
          1385.9696356275304
         ],
         "title": {
          "text": "Liczba kredytów"
         },
         "type": "linear"
        }
       }
      },
      "text/html": [
       "<div>                            <div id=\"2a92e3d2-5417-42d8-9ea7-8463ec5fe5de\" class=\"plotly-graph-div\" style=\"height:600px; width:100%;\"></div>            <script type=\"text/javascript\">                require([\"plotly\"], function(Plotly) {                    window.PLOTLYENV=window.PLOTLYENV || {};                                    if (document.getElementById(\"2a92e3d2-5417-42d8-9ea7-8463ec5fe5de\")) {                    Plotly.newPlot(                        \"2a92e3d2-5417-42d8-9ea7-8463ec5fe5de\",                        [{\"line\":{\"color\":\"green\"},\"mode\":\"lines+markers\",\"name\":\"Kredyty pracuj\\u0105ce\",\"x\":[\"2015-01-01T00:00:00\",\"2015-02-01T00:00:00\",\"2015-03-01T00:00:00\",\"2015-04-01T00:00:00\",\"2015-05-01T00:00:00\",\"2015-06-01T00:00:00\",\"2015-07-01T00:00:00\",\"2015-08-01T00:00:00\",\"2015-09-01T00:00:00\",\"2015-10-01T00:00:00\",\"2015-11-01T00:00:00\",\"2015-12-01T00:00:00\",\"2016-01-01T00:00:00\",\"2016-02-01T00:00:00\",\"2016-03-01T00:00:00\",\"2016-04-01T00:00:00\",\"2016-05-01T00:00:00\",\"2016-06-01T00:00:00\",\"2016-07-01T00:00:00\",\"2016-08-01T00:00:00\",\"2016-09-01T00:00:00\",\"2016-10-01T00:00:00\",\"2016-11-01T00:00:00\",\"2016-12-01T00:00:00\",\"2017-01-01T00:00:00\",\"2017-02-01T00:00:00\",\"2017-03-01T00:00:00\",\"2017-04-01T00:00:00\",\"2017-05-01T00:00:00\",\"2017-06-01T00:00:00\",\"2017-07-01T00:00:00\",\"2017-08-01T00:00:00\",\"2017-09-01T00:00:00\",\"2017-10-01T00:00:00\",\"2017-11-01T00:00:00\",\"2017-12-01T00:00:00\",\"2018-01-01T00:00:00\",\"2018-02-01T00:00:00\",\"2018-03-01T00:00:00\",\"2018-04-01T00:00:00\",\"2018-05-01T00:00:00\",\"2018-06-01T00:00:00\",\"2018-07-01T00:00:00\",\"2018-08-01T00:00:00\",\"2018-09-01T00:00:00\",\"2018-10-01T00:00:00\",\"2018-11-01T00:00:00\",\"2018-12-01T00:00:00\",\"2019-01-01T00:00:00\",\"2019-02-01T00:00:00\",\"2019-03-01T00:00:00\",\"2019-04-01T00:00:00\",\"2019-05-01T00:00:00\",\"2019-06-01T00:00:00\",\"2019-07-01T00:00:00\",\"2019-08-01T00:00:00\",\"2019-09-01T00:00:00\",\"2019-10-01T00:00:00\",\"2019-11-01T00:00:00\",\"2019-12-01T00:00:00\",\"2020-01-01T00:00:00\",\"2020-02-01T00:00:00\",\"2020-03-01T00:00:00\",\"2020-04-01T00:00:00\",\"2020-05-01T00:00:00\",\"2020-06-01T00:00:00\",\"2020-07-01T00:00:00\",\"2020-08-01T00:00:00\",\"2020-09-01T00:00:00\",\"2020-10-01T00:00:00\",\"2020-11-01T00:00:00\",\"2020-12-01T00:00:00\",\"2021-01-01T00:00:00\",\"2021-02-01T00:00:00\",\"2021-03-01T00:00:00\",\"2021-04-01T00:00:00\",\"2021-05-01T00:00:00\",\"2021-06-01T00:00:00\",\"2021-07-01T00:00:00\",\"2021-08-01T00:00:00\",\"2021-09-01T00:00:00\",\"2021-10-01T00:00:00\",\"2021-11-01T00:00:00\",\"2021-12-01T00:00:00\",\"2022-01-01T00:00:00\",\"2022-02-01T00:00:00\",\"2022-03-01T00:00:00\"],\"y\":[945,947,947,925,907,906,917,924,927,925,932,945,929,964,967,982,978,967,961,976,962,956,964,983,983,984,991,986,990,1002,1014,1020,1030,1038,1034,1029,1042,1039,1036,1055,1061,1059,1054,1065,1071,1079,1096,1094,1108,1120,1127,1156,1166,1179,1206,1238,1247,1268,1272,1284,1266,1302,1288,1266,1279,1283,1283,1277,1265,1254,1243,1230,1215,1205,1208,1219,1228,1222,1228,1229,1218,1213,1219,1198,1165,1153,1147],\"type\":\"scatter\"},{\"line\":{\"color\":\"red\"},\"mode\":\"lines+markers\",\"name\":\"Kredyty niepracuj\\u0105ce\",\"x\":[\"2015-01-01T00:00:00\",\"2015-02-01T00:00:00\",\"2015-03-01T00:00:00\",\"2015-04-01T00:00:00\",\"2015-05-01T00:00:00\",\"2015-06-01T00:00:00\",\"2015-07-01T00:00:00\",\"2015-08-01T00:00:00\",\"2015-09-01T00:00:00\",\"2015-10-01T00:00:00\",\"2015-11-01T00:00:00\",\"2015-12-01T00:00:00\",\"2016-01-01T00:00:00\",\"2016-02-01T00:00:00\",\"2016-03-01T00:00:00\",\"2016-04-01T00:00:00\",\"2016-05-01T00:00:00\",\"2016-06-01T00:00:00\",\"2016-07-01T00:00:00\",\"2016-08-01T00:00:00\",\"2016-09-01T00:00:00\",\"2016-10-01T00:00:00\",\"2016-11-01T00:00:00\",\"2016-12-01T00:00:00\",\"2017-01-01T00:00:00\",\"2017-02-01T00:00:00\",\"2017-03-01T00:00:00\",\"2017-04-01T00:00:00\",\"2017-05-01T00:00:00\",\"2017-06-01T00:00:00\",\"2017-07-01T00:00:00\",\"2017-08-01T00:00:00\",\"2017-09-01T00:00:00\",\"2017-10-01T00:00:00\",\"2017-11-01T00:00:00\",\"2017-12-01T00:00:00\",\"2018-01-01T00:00:00\",\"2018-02-01T00:00:00\",\"2018-03-01T00:00:00\",\"2018-04-01T00:00:00\",\"2018-05-01T00:00:00\",\"2018-06-01T00:00:00\",\"2018-07-01T00:00:00\",\"2018-08-01T00:00:00\",\"2018-09-01T00:00:00\",\"2018-10-01T00:00:00\",\"2018-11-01T00:00:00\",\"2018-12-01T00:00:00\",\"2019-01-01T00:00:00\",\"2019-02-01T00:00:00\",\"2019-03-01T00:00:00\",\"2019-04-01T00:00:00\",\"2019-05-01T00:00:00\",\"2019-06-01T00:00:00\",\"2019-07-01T00:00:00\",\"2019-08-01T00:00:00\",\"2019-09-01T00:00:00\",\"2019-10-01T00:00:00\",\"2019-11-01T00:00:00\",\"2019-12-01T00:00:00\",\"2020-01-01T00:00:00\",\"2020-02-01T00:00:00\",\"2020-03-01T00:00:00\",\"2020-04-01T00:00:00\",\"2020-05-01T00:00:00\",\"2020-06-01T00:00:00\",\"2020-07-01T00:00:00\",\"2020-08-01T00:00:00\",\"2020-09-01T00:00:00\",\"2020-10-01T00:00:00\",\"2020-11-01T00:00:00\",\"2020-12-01T00:00:00\",\"2021-01-01T00:00:00\",\"2021-02-01T00:00:00\",\"2021-03-01T00:00:00\",\"2021-04-01T00:00:00\",\"2021-05-01T00:00:00\",\"2021-06-01T00:00:00\",\"2021-07-01T00:00:00\",\"2021-08-01T00:00:00\",\"2021-09-01T00:00:00\",\"2021-10-01T00:00:00\",\"2021-11-01T00:00:00\",\"2021-12-01T00:00:00\",\"2022-01-01T00:00:00\",\"2022-02-01T00:00:00\",\"2022-03-01T00:00:00\"],\"y\":[55,60,57,60,62,54,54,56,57,62,58,62,64,71,70,69,72,66,71,71,77,74,78,64,66,68,49,54,52,45,48,55,55,59,46,51,56,60,62,53,58,59,64,66,46,47,50,56,67,72,76,80,65,66,71,77,81,83,84,87,90,78,85,88,88,76,77,83,87,75,75,75,67,69,60,59,64,62,63,46,48,53,51,51,53,48,51],\"type\":\"scatter\"}],                        {\"template\":{\"data\":{\"barpolar\":[{\"marker\":{\"line\":{\"color\":\"white\",\"width\":0.5},\"pattern\":{\"fillmode\":\"overlay\",\"size\":10,\"solidity\":0.2}},\"type\":\"barpolar\"}],\"bar\":[{\"error_x\":{\"color\":\"#2a3f5f\"},\"error_y\":{\"color\":\"#2a3f5f\"},\"marker\":{\"line\":{\"color\":\"white\",\"width\":0.5},\"pattern\":{\"fillmode\":\"overlay\",\"size\":10,\"solidity\":0.2}},\"type\":\"bar\"}],\"carpet\":[{\"aaxis\":{\"endlinecolor\":\"#2a3f5f\",\"gridcolor\":\"#C8D4E3\",\"linecolor\":\"#C8D4E3\",\"minorgridcolor\":\"#C8D4E3\",\"startlinecolor\":\"#2a3f5f\"},\"baxis\":{\"endlinecolor\":\"#2a3f5f\",\"gridcolor\":\"#C8D4E3\",\"linecolor\":\"#C8D4E3\",\"minorgridcolor\":\"#C8D4E3\",\"startlinecolor\":\"#2a3f5f\"},\"type\":\"carpet\"}],\"choropleth\":[{\"colorbar\":{\"outlinewidth\":0,\"ticks\":\"\"},\"type\":\"choropleth\"}],\"contourcarpet\":[{\"colorbar\":{\"outlinewidth\":0,\"ticks\":\"\"},\"type\":\"contourcarpet\"}],\"contour\":[{\"colorbar\":{\"outlinewidth\":0,\"ticks\":\"\"},\"colorscale\":[[0.0,\"#0d0887\"],[0.1111111111111111,\"#46039f\"],[0.2222222222222222,\"#7201a8\"],[0.3333333333333333,\"#9c179e\"],[0.4444444444444444,\"#bd3786\"],[0.5555555555555556,\"#d8576b\"],[0.6666666666666666,\"#ed7953\"],[0.7777777777777778,\"#fb9f3a\"],[0.8888888888888888,\"#fdca26\"],[1.0,\"#f0f921\"]],\"type\":\"contour\"}],\"heatmapgl\":[{\"colorbar\":{\"outlinewidth\":0,\"ticks\":\"\"},\"colorscale\":[[0.0,\"#0d0887\"],[0.1111111111111111,\"#46039f\"],[0.2222222222222222,\"#7201a8\"],[0.3333333333333333,\"#9c179e\"],[0.4444444444444444,\"#bd3786\"],[0.5555555555555556,\"#d8576b\"],[0.6666666666666666,\"#ed7953\"],[0.7777777777777778,\"#fb9f3a\"],[0.8888888888888888,\"#fdca26\"],[1.0,\"#f0f921\"]],\"type\":\"heatmapgl\"}],\"heatmap\":[{\"colorbar\":{\"outlinewidth\":0,\"ticks\":\"\"},\"colorscale\":[[0.0,\"#0d0887\"],[0.1111111111111111,\"#46039f\"],[0.2222222222222222,\"#7201a8\"],[0.3333333333333333,\"#9c179e\"],[0.4444444444444444,\"#bd3786\"],[0.5555555555555556,\"#d8576b\"],[0.6666666666666666,\"#ed7953\"],[0.7777777777777778,\"#fb9f3a\"],[0.8888888888888888,\"#fdca26\"],[1.0,\"#f0f921\"]],\"type\":\"heatmap\"}],\"histogram2dcontour\":[{\"colorbar\":{\"outlinewidth\":0,\"ticks\":\"\"},\"colorscale\":[[0.0,\"#0d0887\"],[0.1111111111111111,\"#46039f\"],[0.2222222222222222,\"#7201a8\"],[0.3333333333333333,\"#9c179e\"],[0.4444444444444444,\"#bd3786\"],[0.5555555555555556,\"#d8576b\"],[0.6666666666666666,\"#ed7953\"],[0.7777777777777778,\"#fb9f3a\"],[0.8888888888888888,\"#fdca26\"],[1.0,\"#f0f921\"]],\"type\":\"histogram2dcontour\"}],\"histogram2d\":[{\"colorbar\":{\"outlinewidth\":0,\"ticks\":\"\"},\"colorscale\":[[0.0,\"#0d0887\"],[0.1111111111111111,\"#46039f\"],[0.2222222222222222,\"#7201a8\"],[0.3333333333333333,\"#9c179e\"],[0.4444444444444444,\"#bd3786\"],[0.5555555555555556,\"#d8576b\"],[0.6666666666666666,\"#ed7953\"],[0.7777777777777778,\"#fb9f3a\"],[0.8888888888888888,\"#fdca26\"],[1.0,\"#f0f921\"]],\"type\":\"histogram2d\"}],\"histogram\":[{\"marker\":{\"pattern\":{\"fillmode\":\"overlay\",\"size\":10,\"solidity\":0.2}},\"type\":\"histogram\"}],\"mesh3d\":[{\"colorbar\":{\"outlinewidth\":0,\"ticks\":\"\"},\"type\":\"mesh3d\"}],\"parcoords\":[{\"line\":{\"colorbar\":{\"outlinewidth\":0,\"ticks\":\"\"}},\"type\":\"parcoords\"}],\"pie\":[{\"automargin\":true,\"type\":\"pie\"}],\"scatter3d\":[{\"line\":{\"colorbar\":{\"outlinewidth\":0,\"ticks\":\"\"}},\"marker\":{\"colorbar\":{\"outlinewidth\":0,\"ticks\":\"\"}},\"type\":\"scatter3d\"}],\"scattercarpet\":[{\"marker\":{\"colorbar\":{\"outlinewidth\":0,\"ticks\":\"\"}},\"type\":\"scattercarpet\"}],\"scattergeo\":[{\"marker\":{\"colorbar\":{\"outlinewidth\":0,\"ticks\":\"\"}},\"type\":\"scattergeo\"}],\"scattergl\":[{\"marker\":{\"colorbar\":{\"outlinewidth\":0,\"ticks\":\"\"}},\"type\":\"scattergl\"}],\"scattermapbox\":[{\"marker\":{\"colorbar\":{\"outlinewidth\":0,\"ticks\":\"\"}},\"type\":\"scattermapbox\"}],\"scatterpolargl\":[{\"marker\":{\"colorbar\":{\"outlinewidth\":0,\"ticks\":\"\"}},\"type\":\"scatterpolargl\"}],\"scatterpolar\":[{\"marker\":{\"colorbar\":{\"outlinewidth\":0,\"ticks\":\"\"}},\"type\":\"scatterpolar\"}],\"scatter\":[{\"marker\":{\"colorbar\":{\"outlinewidth\":0,\"ticks\":\"\"}},\"type\":\"scatter\"}],\"scatterternary\":[{\"marker\":{\"colorbar\":{\"outlinewidth\":0,\"ticks\":\"\"}},\"type\":\"scatterternary\"}],\"surface\":[{\"colorbar\":{\"outlinewidth\":0,\"ticks\":\"\"},\"colorscale\":[[0.0,\"#0d0887\"],[0.1111111111111111,\"#46039f\"],[0.2222222222222222,\"#7201a8\"],[0.3333333333333333,\"#9c179e\"],[0.4444444444444444,\"#bd3786\"],[0.5555555555555556,\"#d8576b\"],[0.6666666666666666,\"#ed7953\"],[0.7777777777777778,\"#fb9f3a\"],[0.8888888888888888,\"#fdca26\"],[1.0,\"#f0f921\"]],\"type\":\"surface\"}],\"table\":[{\"cells\":{\"fill\":{\"color\":\"#EBF0F8\"},\"line\":{\"color\":\"white\"}},\"header\":{\"fill\":{\"color\":\"#C8D4E3\"},\"line\":{\"color\":\"white\"}},\"type\":\"table\"}]},\"layout\":{\"annotationdefaults\":{\"arrowcolor\":\"#2a3f5f\",\"arrowhead\":0,\"arrowwidth\":1},\"autotypenumbers\":\"strict\",\"coloraxis\":{\"colorbar\":{\"outlinewidth\":0,\"ticks\":\"\"}},\"colorscale\":{\"diverging\":[[0,\"#8e0152\"],[0.1,\"#c51b7d\"],[0.2,\"#de77ae\"],[0.3,\"#f1b6da\"],[0.4,\"#fde0ef\"],[0.5,\"#f7f7f7\"],[0.6,\"#e6f5d0\"],[0.7,\"#b8e186\"],[0.8,\"#7fbc41\"],[0.9,\"#4d9221\"],[1,\"#276419\"]],\"sequential\":[[0.0,\"#0d0887\"],[0.1111111111111111,\"#46039f\"],[0.2222222222222222,\"#7201a8\"],[0.3333333333333333,\"#9c179e\"],[0.4444444444444444,\"#bd3786\"],[0.5555555555555556,\"#d8576b\"],[0.6666666666666666,\"#ed7953\"],[0.7777777777777778,\"#fb9f3a\"],[0.8888888888888888,\"#fdca26\"],[1.0,\"#f0f921\"]],\"sequentialminus\":[[0.0,\"#0d0887\"],[0.1111111111111111,\"#46039f\"],[0.2222222222222222,\"#7201a8\"],[0.3333333333333333,\"#9c179e\"],[0.4444444444444444,\"#bd3786\"],[0.5555555555555556,\"#d8576b\"],[0.6666666666666666,\"#ed7953\"],[0.7777777777777778,\"#fb9f3a\"],[0.8888888888888888,\"#fdca26\"],[1.0,\"#f0f921\"]]},\"colorway\":[\"#636efa\",\"#EF553B\",\"#00cc96\",\"#ab63fa\",\"#FFA15A\",\"#19d3f3\",\"#FF6692\",\"#B6E880\",\"#FF97FF\",\"#FECB52\"],\"font\":{\"color\":\"#2a3f5f\"},\"geo\":{\"bgcolor\":\"white\",\"lakecolor\":\"white\",\"landcolor\":\"white\",\"showlakes\":true,\"showland\":true,\"subunitcolor\":\"#C8D4E3\"},\"hoverlabel\":{\"align\":\"left\"},\"hovermode\":\"closest\",\"mapbox\":{\"style\":\"light\"},\"paper_bgcolor\":\"white\",\"plot_bgcolor\":\"white\",\"polar\":{\"angularaxis\":{\"gridcolor\":\"#EBF0F8\",\"linecolor\":\"#EBF0F8\",\"ticks\":\"\"},\"bgcolor\":\"white\",\"radialaxis\":{\"gridcolor\":\"#EBF0F8\",\"linecolor\":\"#EBF0F8\",\"ticks\":\"\"}},\"scene\":{\"xaxis\":{\"backgroundcolor\":\"white\",\"gridcolor\":\"#DFE8F3\",\"gridwidth\":2,\"linecolor\":\"#EBF0F8\",\"showbackground\":true,\"ticks\":\"\",\"zerolinecolor\":\"#EBF0F8\"},\"yaxis\":{\"backgroundcolor\":\"white\",\"gridcolor\":\"#DFE8F3\",\"gridwidth\":2,\"linecolor\":\"#EBF0F8\",\"showbackground\":true,\"ticks\":\"\",\"zerolinecolor\":\"#EBF0F8\"},\"zaxis\":{\"backgroundcolor\":\"white\",\"gridcolor\":\"#DFE8F3\",\"gridwidth\":2,\"linecolor\":\"#EBF0F8\",\"showbackground\":true,\"ticks\":\"\",\"zerolinecolor\":\"#EBF0F8\"}},\"shapedefaults\":{\"line\":{\"color\":\"#2a3f5f\"}},\"ternary\":{\"aaxis\":{\"gridcolor\":\"#DFE8F3\",\"linecolor\":\"#A2B1C6\",\"ticks\":\"\"},\"baxis\":{\"gridcolor\":\"#DFE8F3\",\"linecolor\":\"#A2B1C6\",\"ticks\":\"\"},\"bgcolor\":\"white\",\"caxis\":{\"gridcolor\":\"#DFE8F3\",\"linecolor\":\"#A2B1C6\",\"ticks\":\"\"}},\"title\":{\"x\":0.05},\"xaxis\":{\"automargin\":true,\"gridcolor\":\"#EBF0F8\",\"linecolor\":\"#EBF0F8\",\"ticks\":\"\",\"title\":{\"standoff\":15},\"zerolinecolor\":\"#EBF0F8\",\"zerolinewidth\":2},\"yaxis\":{\"automargin\":true,\"gridcolor\":\"#EBF0F8\",\"linecolor\":\"#EBF0F8\",\"ticks\":\"\",\"title\":{\"standoff\":15},\"zerolinecolor\":\"#EBF0F8\",\"zerolinewidth\":2}}},\"title\":{\"text\":\"Liczba kredyt\\u00f3w pracuj\\u0105cych i niepracuj\\u0105cych w czasie\"},\"xaxis\":{\"title\":{\"text\":\"Data\"}},\"yaxis\":{\"title\":{\"text\":\"Liczba kredyt\\u00f3w\"}},\"legend\":{\"title\":{\"text\":\"Typ kredytu\"}},\"hovermode\":\"x unified\",\"height\":600},                        {\"responsive\": true}                    ).then(function(){\n",
       "                            \n",
       "var gd = document.getElementById('2a92e3d2-5417-42d8-9ea7-8463ec5fe5de');\n",
       "var x = new MutationObserver(function (mutations, observer) {{\n",
       "        var display = window.getComputedStyle(gd).display;\n",
       "        if (!display || display === 'none') {{\n",
       "            console.log([gd, 'removed!']);\n",
       "            Plotly.purge(gd);\n",
       "            observer.disconnect();\n",
       "        }}\n",
       "}});\n",
       "\n",
       "// Listen for the removal of the full notebook cells\n",
       "var notebookContainer = gd.closest('#notebook-container');\n",
       "if (notebookContainer) {{\n",
       "    x.observe(notebookContainer, {childList: true});\n",
       "}}\n",
       "\n",
       "// Listen for the clearing of the current output cell\n",
       "var outputEl = gd.closest('.output');\n",
       "if (outputEl) {{\n",
       "    x.observe(outputEl, {childList: true});\n",
       "}}\n",
       "\n",
       "                        })                };                });            </script>        </div>"
      ]
     },
     "metadata": {},
     "output_type": "display_data"
    }
   ],
   "source": [
    "from IPython.display import display\n",
    "import plotly.graph_objects as go\n",
    "\n",
    "# grupowanie po miesiącu \n",
    "tabela_npl = df_kredyty.groupby([df_kredyty['period_dte'].dt.to_period('M')])['fl_npl'].value_counts().unstack().rename(columns={0: 'Kredyty pracujące', 1: 'Kredyty niepracujące'})\n",
    "\n",
    "tabela_npl.index = tabela_npl.index.to_timestamp()\n",
    "\n",
    "#wykres\n",
    "\n",
    "fig = go.Figure()\n",
    "\n",
    "fig.add_trace(go.Scatter(\n",
    "    x=tabela_npl.index,\n",
    "    y=tabela_npl['Kredyty pracujące'],\n",
    "    mode='lines+markers',\n",
    "    name='Kredyty pracujące',\n",
    "    line=dict(color='green')\n",
    "))\n",
    "\n",
    "fig.add_trace(go.Scatter(\n",
    "    x=tabela_npl.index,\n",
    "    y=tabela_npl['Kredyty niepracujące'],\n",
    "    mode='lines+markers',\n",
    "    name='Kredyty niepracujące',\n",
    "    line=dict(color='red')\n",
    "))\n",
    "\n",
    "fig.update_layout(\n",
    "    title='Liczba kredytów pracujących i niepracujących w czasie',\n",
    "    xaxis_title='Data',\n",
    "    yaxis_title='Liczba kredytów',\n",
    "    legend_title='Typ kredytu',\n",
    "    template='plotly_white',\n",
    "    hovermode='x unified',\n",
    "    height=600\n",
    ")\n",
    "\n",
    "fig.show()\n"
   ]
  },
  {
   "cell_type": "markdown",
   "id": "5e4ab974-fabf-46f5-bbcf-ebb3c416a993",
   "metadata": {},
   "source": [
    "### Podsumowanie"
   ]
  },
  {
   "cell_type": "code",
   "execution_count": 15,
   "id": "bf2c4f9b-8d82-4cd3-a06d-ac53f7b31bd1",
   "metadata": {},
   "outputs": [
    {
     "data": {
      "text/html": [
       "<div>\n",
       "<style scoped>\n",
       "    .dataframe tbody tr th:only-of-type {\n",
       "        vertical-align: middle;\n",
       "    }\n",
       "\n",
       "    .dataframe tbody tr th {\n",
       "        vertical-align: top;\n",
       "    }\n",
       "\n",
       "    .dataframe thead th {\n",
       "        text-align: right;\n",
       "    }\n",
       "</style>\n",
       "<table border=\"1\" class=\"dataframe\">\n",
       "  <thead>\n",
       "    <tr style=\"text-align: right;\">\n",
       "      <th>fl_npl</th>\n",
       "      <th>Kredyty pracujące</th>\n",
       "      <th>Kredyty niepracujące</th>\n",
       "    </tr>\n",
       "  </thead>\n",
       "  <tbody>\n",
       "    <tr>\n",
       "      <th>SUMA</th>\n",
       "      <td>95262</td>\n",
       "      <td>5600</td>\n",
       "    </tr>\n",
       "  </tbody>\n",
       "</table>\n",
       "</div>"
      ],
      "text/plain": [
       "fl_npl  Kredyty pracujące  Kredyty niepracujące\n",
       "SUMA                95262                  5600"
      ]
     },
     "metadata": {},
     "output_type": "display_data"
    }
   ],
   "source": [
    "wiersz_sumaryczny = pd.DataFrame(tabela_npl.sum()).T\n",
    "wiersz_sumaryczny.index = ['SUMA']\n",
    "display(wiersz_sumaryczny)\n"
   ]
  },
  {
   "cell_type": "markdown",
   "id": "eadc0769-dcf3-4fc4-aaac-fe5a68c4a348",
   "metadata": {},
   "source": [
    "Na podstawie danych przedstawionych na wykresie można zauważyć, że liczba kredytów pracujących utrzymywała się na stabilnym wysokim poziomie. Równocześnie liczba kredytów niepracujących pozostawała stosunkowo niska i stabilna.  \n",
    "\n",
    "Podsumowując, w całym analizowanym okresie łączna liczba kredytów pracujących wyniosła 95 262, natomiast liczba kredytów niepracujących – 5 600, co daje udział defaultów na poziomie około 5,9%. Wskazuje to na relatywnie zdrowy portfel kredytowy z ograniczonym ryzykiem niewykonania zobowiązania."
   ]
  },
  {
   "cell_type": "markdown",
   "id": "5c84efd9-5719-413d-a6fe-dee4b488dd83",
   "metadata": {},
   "source": [
    "Przejdziemy teraz do wyznaczenia *cure* w naszym portfelu. *Cure* wyznaczamy jedynie dla obserwacji, które kiedykolwiek były oznaczone jako *default*. Wyznaczone wartości wpiszemy w nową kolumne *fl_npl_adj* (adjusted non-performing loan)."
   ]
  },
  {
   "cell_type": "code",
   "execution_count": 18,
   "id": "1a7874cb-40fe-4c8d-be2f-b130f0c1584d",
   "metadata": {},
   "outputs": [],
   "source": [
    "kredyty_default_ever=df_kredyty.loc[df_kredyty.fl_npl>0, 'id_kredytu'].drop_duplicates().to_list()\n",
    "\n",
    "df_kredyty['fl_npl_adj'] = df_kredyty.fl_npl.copy()\n",
    "\n",
    "for kred in kredyty_default_ever:\n",
    "\n",
    "    #moment wejścia w default\n",
    "    df_kred_jeden = df_kredyty.loc[df_kredyty.id_kredytu == kred, :].sort_values('period_id').copy()\n",
    "    df_kred_jeden['fl_npl_shifted'] = df_kred_jeden['fl_npl'].shift(fill_value = 0)\n",
    "    period_wejscie_default = df_kred_jeden.loc[(df_kred_jeden.fl_npl == 1) & (df_kred_jeden.fl_npl_shifted == 0), 'period_id'].to_list()\n",
    "\n",
    "    max_hist_per = df_kredyty.loc[(df_kredyty.id_kredytu == kred), 'period_id'].max()   \n",
    "\n",
    "    # wykonujemy dla każdej daty wejścia w default (może być kilka razy)\n",
    "    for i in period_wejscie_default:\n",
    "        while i <= max_hist_per:\n",
    "            if df_kredyty.loc[(df_kredyty.id_kredytu == kred) & (df_kredyty.period_id == i), 'fl_npl'].values[0] == 1:\n",
    "                i += 1\n",
    "            else:\n",
    "                j = i\n",
    "\n",
    "                while (j < i+3) & (j != max_hist_per+1):\n",
    "                    df_kredyty.loc[(df_kredyty.id_kredytu == kred) & (df_kredyty.period_id == j), 'fl_npl_adj'] = 1\n",
    "                    j += 1\n",
    "\n",
    "                if j > max_hist_per:\n",
    "                    i = j + 1\n",
    "                else:\n",
    "                    if (df_kredyty.loc[(df_kredyty.id_kredytu == kred) & (df_kredyty.period_id == j), 'fl_npl'].values[0] == 0) & (df_kredyty.loc[(df_kredyty.id_kredytu == kred) & (df_kredyty.period_id == j), 'dma'].values[0] <= 30):\n",
    "                        i = max_hist_per + 1\n",
    "                    else:\n",
    "                        df_kredyty.loc[(df_kredyty.id_kredytu == kred) & (df_kredyty.period_id == j), 'fl_npl_adj'] = 1\n",
    "                        i = j + 1"
   ]
  },
  {
   "cell_type": "markdown",
   "id": "b6900f2c-6f85-49a7-917c-6feb98053591",
   "metadata": {},
   "source": [
    "***  \n",
    "\n",
    "## Cześć II  \n",
    "\n",
    "Chcemy skupić się teraz na wyznaczeniu wcześniej zdefiniowanej wartości $ODR_{12}$. Potrzebne nam będzie wyznaczenie informacji o tym, czy dla danego kredytu wystąpi zdarzenie defaultu w horyzoncie 12-miesięcznym. W tym celu implementujemy podejście prognostyczne, polegające na przesuwaniu horyzontu czasowego o kolejne miesiące i obserwacji statusu *fl_npl*.   \n",
    "\n",
    "W praktyce, dla każdego okresu t, sprawdzamy czy dany kredyt wejdzie w stan niewykonania zobowiązania (*fl_npl = 1*) w którymkolwiek z kolejnych miesięcy: t+1, t+2, ..., t+12. Operację realizujemy w pętli, iterując po wartościach z przedziału range(1, 13):  \n",
    "\n",
    "- dla każdego przesunięcia n tworzymy pomocniczą tabelę, w której period_id zostaje zwiększone o n, co odpowiada stanowi portfela w n-tym miesiącu po bieżącym okresie,\n",
    "\n",
    "- następnie łączymy tę tabelę z danymi głównymi (df_kredyty) po id_kredytu i przesuniętym period_id,\n",
    "\n",
    "- efektem jest powstanie nowych kolumn: *fl_npl_1*, *fl_npl_2*, ..., *fl_npl_12*, które informują nas, czy dany kredyt stanie się niepracujący odpowiednio w 1., 2., ..., 12. miesiącu od analizowanego momentu."
   ]
  },
  {
   "cell_type": "code",
   "execution_count": 20,
   "id": "f0156457-bc78-4f11-8acf-b4fcb40edf67",
   "metadata": {},
   "outputs": [],
   "source": [
    "df_kredyty_default = df_kredyty[['id_kredytu', 'period_id', 'fl_npl_adj']].copy()\n",
    "\n",
    "for i in range(1, 13):\n",
    "    df_kredyty_default['period_id_plus_' + str(i)] = df_kredyty_default.period_id + i\n",
    "    \n",
    "    pom = df_kredyty_default[['period_id', 'id_kredytu', 'fl_npl_adj']].copy()  \n",
    "    pom = pom.rename(columns = {'fl_npl_adj': 'fl_npl_' + str(i), 'period_id': 'period_id_def_' + str(i)})\n",
    "\n",
    "    df_kredyty_default = pd.merge(left = df_kredyty_default, \n",
    "                          right=pom, \n",
    "                          left_on=['id_kredytu', 'period_id_plus_' + str(i)], \n",
    "                          right_on=['id_kredytu', 'period_id_def_' + str(i)],                        \n",
    "                          how='left')"
   ]
  },
  {
   "cell_type": "markdown",
   "id": "bc893316-ab31-4d52-8cc5-466927fa92b9",
   "metadata": {},
   "source": [
    "W kolejnym etapie, dla każdej obserwacji, sumujemy wartości w kolumnach *fl_npl_1* do *fl_npl_12*. Suma tych wartości wskazuje, ile razy w analizowanym horyzoncie 12 miesięcy wystąpiło zdarzenie default.  \n",
    "\n",
    "Na tej podstawie definiujemy nową zmienną binarną, która przyjmuje wartość:  \n",
    "\n",
    "- **1**, jeśli w ciągu 12 kolejnych miesięcy wystąpił co najmniej jeden przypadek niewykonania zobowiązania (czyli suma fl_npl_1 do fl_npl_12 > 0),  \n",
    "\n",
    "- **0**, jeśli kredyt pozostawał w pełni pracujący przez cały ten okres (czyli suma = 0)."
   ]
  },
  {
   "cell_type": "code",
   "execution_count": 21,
   "id": "8230670e-36ab-4fa5-bbf0-1da151833c45",
   "metadata": {},
   "outputs": [],
   "source": [
    "df_kredyty_default['sum_def'] = df_kredyty_default[['fl_npl_' + str(i) for i in range(1, 13)]].sum(axis=1).apply(lambda x: 1 if x>0 else 0)"
   ]
  },
  {
   "cell_type": "markdown",
   "id": "72c01a89-9073-4925-a11a-bb9ad899da1c",
   "metadata": {},
   "source": [
    "Aby zapewnić wiarygodność analizy, wprowadzamy dodatkową kolumnę pomocniczą, która sprawdza, czy dla danej obserwacji dostępne są dane o statusie defaultu w pełnym, 12-miesięcznym horyzoncie.  \n",
    "\n",
    "W przypadkach, gdy historia jest niekompletna obserwacja zostaje oznaczona jako niepełna i wykluczona z dalszych obliczeń wskaźnika ODR. Dzięki temu unikamy błędnego zaklasyfikowania kredytu jako niespełniającego definicji defaultu tylko dlatego, że brakuje mu pełnej ścieżki obserwacyjnej."
   ]
  },
  {
   "cell_type": "code",
   "execution_count": 24,
   "id": "fe997d9f-4a18-4d79-885b-689c70627bf7",
   "metadata": {},
   "outputs": [],
   "source": [
    "df_kredyty_default['flg_default_def_avaliable'] = df_kredyty_default[['fl_npl_' + str(i) for i in range(1, 13)]].isna().sum(axis=1).apply(lambda x: 0 if x != 0 else 1)"
   ]
  },
  {
   "cell_type": "markdown",
   "id": "0688c0d5-1220-45c0-b021-1507b58a71ac",
   "metadata": {},
   "source": [
    "Tworzymy kolumnę *def_12m* tylko dla tych obserwacji, dla których jesteśmy w stanie jednoznacznie ocenić wystąpienie defaultu w pełnym 12-miesięcznym horyzoncie (*flg_default_def_avaliable == 1*). Dla pozostałych przypadków przypisywana jest wartość NaN, co oznacza brak wystarczających danych do oceny."
   ]
  },
  {
   "cell_type": "code",
   "execution_count": 33,
   "id": "5fe261ed-282a-48fc-a402-37e879680cf4",
   "metadata": {},
   "outputs": [],
   "source": [
    "df_kredyty_default['def_12m']=df_kredyty_default.apply(lambda x: x.sum_def if x.flg_default_def_avaliable==1 else np.NaN, axis=1)"
   ]
  },
  {
   "cell_type": "markdown",
   "id": "b2f10d3f-5bbe-412f-8199-852e8fc2910f",
   "metadata": {},
   "source": [
    "Dla tak uzyskanych i opracowanych danych w tabeli pomocniczej łączymy ją z głównym zbiorem danych.  \n",
    "\n",
    "Dzięki temu zmienna *def_12m*, która zawiera informację o wystąpieniu defaultu w ciągu 12 miesięcy, zostaje zintegrowana z bazową tabelą **df_kredyty**, pozwalając na dalsze analizy, takie jak wyznaczenie ODR czy trenowanie modeli predykcyjnych."
   ]
  },
  {
   "cell_type": "code",
   "execution_count": 31,
   "id": "fc4a064a-59b6-491a-a124-7be744d11462",
   "metadata": {},
   "outputs": [],
   "source": [
    "df_kredyty=pd.merge(left=df_kredyty,\n",
    "                   right=df_kredyty_default[['id_kredytu','period_id','def_12m']],\n",
    "                   left_on=['id_kredytu','period_id'],\n",
    "                   right_on=['id_kredytu','period_id'],\n",
    "                   how='left')"
   ]
  },
  {
   "cell_type": "markdown",
   "id": "87c96418-d799-4a02-a022-d2171f2424cd",
   "metadata": {},
   "source": [
    "### Obserwowany odsetek niewykonania zobowiązania (ODR) w ciągu 12 miesięcy"
   ]
  },
  {
   "cell_type": "code",
   "execution_count": 40,
   "id": "ab66189b-7d36-408a-8a2c-4f2b63100c36",
   "metadata": {},
   "outputs": [
    {
     "data": {
      "text/html": [
       "<div>\n",
       "<style scoped>\n",
       "    .dataframe tbody tr th:only-of-type {\n",
       "        vertical-align: middle;\n",
       "    }\n",
       "\n",
       "    .dataframe tbody tr th {\n",
       "        vertical-align: top;\n",
       "    }\n",
       "\n",
       "    .dataframe thead th {\n",
       "        text-align: right;\n",
       "    }\n",
       "</style>\n",
       "<table border=\"1\" class=\"dataframe\">\n",
       "  <thead>\n",
       "    <tr style=\"text-align: right;\">\n",
       "      <th></th>\n",
       "      <th>Wskaźnik</th>\n",
       "      <th>Wartość</th>\n",
       "    </tr>\n",
       "  </thead>\n",
       "  <tbody>\n",
       "    <tr>\n",
       "      <th>0</th>\n",
       "      <td>Liczba ekspozycji z defaultem w ciągu 12 miesięcy</td>\n",
       "      <td>3129</td>\n",
       "    </tr>\n",
       "    <tr>\n",
       "      <th>1</th>\n",
       "      <td>Liczba ekspozycji w portfelu pracującym z pełną obserwacją</td>\n",
       "      <td>51941</td>\n",
       "    </tr>\n",
       "    <tr>\n",
       "      <th>2</th>\n",
       "      <td>Obserwowany odsetek niewykonania zobowiązania (ODR)</td>\n",
       "      <td>6.02%</td>\n",
       "    </tr>\n",
       "  </tbody>\n",
       "</table>\n",
       "</div>"
      ],
      "text/plain": [
       "                                                     Wskaźnik Wartość\n",
       "0           Liczba ekspozycji z defaultem w ciągu 12 miesięcy    3129\n",
       "1  Liczba ekspozycji w portfelu pracującym z pełną obserwacją   51941\n",
       "2         Obserwowany odsetek niewykonania zobowiązania (ODR)   6.02%"
      ]
     },
     "execution_count": 40,
     "metadata": {},
     "output_type": "execute_result"
    }
   ],
   "source": [
    "# Obliczenia\n",
    "liczba_defaultow = df_kredyty.loc[\n",
    "    (df_kredyty.fl_npl_adj == 0) & (df_kredyty.def_12m.notna()),\n",
    "    'def_12m'\n",
    "].sum()\n",
    "\n",
    "liczba_ekspozycji = df_kredyty.loc[\n",
    "    (df_kredyty.fl_npl_adj == 0) & (df_kredyty.def_12m.notna()),\n",
    "    'def_12m'\n",
    "].count()\n",
    "\n",
    "odr = df_kredyty.loc[\n",
    "    (df_kredyty.fl_npl_adj == 0) & (df_kredyty.def_12m.notna()),\n",
    "    'def_12m'\n",
    "].mean()\n",
    "\n",
    "# Pomocniczy DataFrame z wynikami\n",
    "df_podsumowanie_odr = pd.DataFrame({\n",
    "    'Wskaźnik': [\n",
    "        'Liczba ekspozycji z defaultem w ciągu 12 miesięcy',\n",
    "        'Liczba ekspozycji w portfelu pracującym z pełną obserwacją',\n",
    "        'Obserwowany odsetek niewykonania zobowiązania (ODR)'\n",
    "    ],\n",
    "    'Wartość': [\n",
    "        int(liczba_defaultow),\n",
    "        int(liczba_ekspozycji),\n",
    "        f\"{odr:.2%}\"\n",
    "    ]\n",
    "})\n",
    "\n",
    "pd.set_option('display.width', 1000)\n",
    "pd.set_option('display.max_colwidth', None)\n",
    "df_podsumowanie_odr"
   ]
  },
  {
   "cell_type": "markdown",
   "id": "ab7e1b79-5250-4f80-b1f9-40a9e1c5856a",
   "metadata": {},
   "source": [
    "Dla dogłębnej analizy możemy przyjrzeć się wykresowi który przedstawia ODR w czasie."
   ]
  },
  {
   "cell_type": "code",
   "execution_count": 41,
   "id": "273165ad-d168-42e0-a80b-351e5239c289",
   "metadata": {},
   "outputs": [
    {
     "data": {
      "application/vnd.plotly.v1+json": {
       "config": {
        "plotlyServerURL": "https://plot.ly"
       },
       "data": [
        {
         "line": {
          "color": "royalblue",
          "width": 2
         },
         "marker": {
          "size": 6
         },
         "mode": "lines+markers",
         "name": "ODR",
         "type": "scatter",
         "x": [
          "2015-01-01T00:00:00",
          "2015-02-01T00:00:00",
          "2015-03-01T00:00:00",
          "2015-04-01T00:00:00",
          "2015-05-01T00:00:00",
          "2015-06-01T00:00:00",
          "2015-07-01T00:00:00",
          "2015-08-01T00:00:00",
          "2015-09-01T00:00:00",
          "2015-10-01T00:00:00",
          "2015-11-01T00:00:00",
          "2015-12-01T00:00:00",
          "2016-01-01T00:00:00",
          "2016-02-01T00:00:00",
          "2016-03-01T00:00:00",
          "2016-04-01T00:00:00",
          "2016-05-01T00:00:00",
          "2016-06-01T00:00:00",
          "2016-07-01T00:00:00",
          "2016-08-01T00:00:00",
          "2016-09-01T00:00:00",
          "2016-10-01T00:00:00",
          "2016-11-01T00:00:00",
          "2016-12-01T00:00:00",
          "2017-01-01T00:00:00",
          "2017-02-01T00:00:00",
          "2017-03-01T00:00:00",
          "2017-04-01T00:00:00",
          "2017-05-01T00:00:00",
          "2017-06-01T00:00:00",
          "2017-07-01T00:00:00",
          "2017-08-01T00:00:00",
          "2017-09-01T00:00:00",
          "2017-10-01T00:00:00",
          "2017-11-01T00:00:00",
          "2017-12-01T00:00:00",
          "2018-01-01T00:00:00",
          "2018-02-01T00:00:00",
          "2018-03-01T00:00:00",
          "2018-04-01T00:00:00",
          "2018-05-01T00:00:00",
          "2018-06-01T00:00:00",
          "2018-07-01T00:00:00",
          "2018-08-01T00:00:00",
          "2018-09-01T00:00:00",
          "2018-10-01T00:00:00",
          "2018-11-01T00:00:00",
          "2018-12-01T00:00:00",
          "2019-01-01T00:00:00",
          "2019-02-01T00:00:00",
          "2019-03-01T00:00:00",
          "2019-04-01T00:00:00",
          "2019-05-01T00:00:00",
          "2019-06-01T00:00:00",
          "2019-07-01T00:00:00",
          "2019-08-01T00:00:00",
          "2019-09-01T00:00:00",
          "2019-10-01T00:00:00",
          "2019-11-01T00:00:00",
          "2019-12-01T00:00:00",
          "2020-01-01T00:00:00",
          "2020-02-01T00:00:00",
          "2020-03-01T00:00:00",
          "2020-04-01T00:00:00",
          "2020-05-01T00:00:00",
          "2020-06-01T00:00:00",
          "2020-07-01T00:00:00",
          "2020-08-01T00:00:00",
          "2020-09-01T00:00:00",
          "2020-10-01T00:00:00",
          "2020-11-01T00:00:00",
          "2020-12-01T00:00:00",
          "2021-01-01T00:00:00",
          "2021-02-01T00:00:00",
          "2021-03-01T00:00:00"
         ],
         "y": [
          0.06710310965630115,
          0.0698051948051948,
          0.06847133757961783,
          0.06687898089171974,
          0.06862745098039216,
          0.07248764415156507,
          0.0762987012987013,
          0.07407407407407407,
          0.07894736842105263,
          0.07190635451505016,
          0.07833333333333334,
          0.07142857142857142,
          0.0686106346483705,
          0.06435643564356436,
          0.058333333333333334,
          0.06622516556291391,
          0.06788079470198675,
          0.05414551607445008,
          0.058519793459552494,
          0.05902192242833052,
          0.054635761589403975,
          0.05813953488372093,
          0.05289256198347107,
          0.05466237942122187,
          0.06041335453100159,
          0.06666666666666667,
          0.07042253521126761,
          0.06041335453100159,
          0.0671875,
          0.0671875,
          0.07109737248840804,
          0.06814580031695722,
          0.061389337641357025,
          0.06389776357827476,
          0.06497622820919176,
          0.06847133757961783,
          0.08099688473520249,
          0.08346213292117466,
          0.08607198748043818,
          0.08409785932721713,
          0.07526881720430108,
          0.07110438729198185,
          0.07578008915304606,
          0.07860262008733625,
          0.07547169811320754,
          0.07636887608069164,
          0.07102272727272728,
          0.06940509915014165,
          0.06424581005586592,
          0.06310013717421124,
          0.06460296096904442,
          0.06710526315789474,
          0.061855670103092786,
          0.06573957016434892,
          0.0630407911001236,
          0.05669481302774427,
          0.05363528009535161,
          0.0539906103286385,
          0.05710955710955711,
          0.05057471264367816,
          0.050175029171528586,
          0.05011389521640091,
          0.04449648711943794,
          0.03933253873659118,
          0.039239001189060645,
          0.03800475059382423,
          0.0380952380952381,
          0.028014616321559074,
          0.031862745098039214,
          0.033623910336239106,
          0.03375,
          0.03875968992248062,
          0.0395778364116095,
          0.037991858887381276,
          0.04103967168262654
         ]
        }
       ],
       "layout": {
        "height": 500,
        "hovermode": "x unified",
        "template": {
         "data": {
          "bar": [
           {
            "error_x": {
             "color": "#2a3f5f"
            },
            "error_y": {
             "color": "#2a3f5f"
            },
            "marker": {
             "line": {
              "color": "white",
              "width": 0.5
             },
             "pattern": {
              "fillmode": "overlay",
              "size": 10,
              "solidity": 0.2
             }
            },
            "type": "bar"
           }
          ],
          "barpolar": [
           {
            "marker": {
             "line": {
              "color": "white",
              "width": 0.5
             },
             "pattern": {
              "fillmode": "overlay",
              "size": 10,
              "solidity": 0.2
             }
            },
            "type": "barpolar"
           }
          ],
          "carpet": [
           {
            "aaxis": {
             "endlinecolor": "#2a3f5f",
             "gridcolor": "#C8D4E3",
             "linecolor": "#C8D4E3",
             "minorgridcolor": "#C8D4E3",
             "startlinecolor": "#2a3f5f"
            },
            "baxis": {
             "endlinecolor": "#2a3f5f",
             "gridcolor": "#C8D4E3",
             "linecolor": "#C8D4E3",
             "minorgridcolor": "#C8D4E3",
             "startlinecolor": "#2a3f5f"
            },
            "type": "carpet"
           }
          ],
          "choropleth": [
           {
            "colorbar": {
             "outlinewidth": 0,
             "ticks": ""
            },
            "type": "choropleth"
           }
          ],
          "contour": [
           {
            "colorbar": {
             "outlinewidth": 0,
             "ticks": ""
            },
            "colorscale": [
             [
              0,
              "#0d0887"
             ],
             [
              0.1111111111111111,
              "#46039f"
             ],
             [
              0.2222222222222222,
              "#7201a8"
             ],
             [
              0.3333333333333333,
              "#9c179e"
             ],
             [
              0.4444444444444444,
              "#bd3786"
             ],
             [
              0.5555555555555556,
              "#d8576b"
             ],
             [
              0.6666666666666666,
              "#ed7953"
             ],
             [
              0.7777777777777778,
              "#fb9f3a"
             ],
             [
              0.8888888888888888,
              "#fdca26"
             ],
             [
              1,
              "#f0f921"
             ]
            ],
            "type": "contour"
           }
          ],
          "contourcarpet": [
           {
            "colorbar": {
             "outlinewidth": 0,
             "ticks": ""
            },
            "type": "contourcarpet"
           }
          ],
          "heatmap": [
           {
            "colorbar": {
             "outlinewidth": 0,
             "ticks": ""
            },
            "colorscale": [
             [
              0,
              "#0d0887"
             ],
             [
              0.1111111111111111,
              "#46039f"
             ],
             [
              0.2222222222222222,
              "#7201a8"
             ],
             [
              0.3333333333333333,
              "#9c179e"
             ],
             [
              0.4444444444444444,
              "#bd3786"
             ],
             [
              0.5555555555555556,
              "#d8576b"
             ],
             [
              0.6666666666666666,
              "#ed7953"
             ],
             [
              0.7777777777777778,
              "#fb9f3a"
             ],
             [
              0.8888888888888888,
              "#fdca26"
             ],
             [
              1,
              "#f0f921"
             ]
            ],
            "type": "heatmap"
           }
          ],
          "heatmapgl": [
           {
            "colorbar": {
             "outlinewidth": 0,
             "ticks": ""
            },
            "colorscale": [
             [
              0,
              "#0d0887"
             ],
             [
              0.1111111111111111,
              "#46039f"
             ],
             [
              0.2222222222222222,
              "#7201a8"
             ],
             [
              0.3333333333333333,
              "#9c179e"
             ],
             [
              0.4444444444444444,
              "#bd3786"
             ],
             [
              0.5555555555555556,
              "#d8576b"
             ],
             [
              0.6666666666666666,
              "#ed7953"
             ],
             [
              0.7777777777777778,
              "#fb9f3a"
             ],
             [
              0.8888888888888888,
              "#fdca26"
             ],
             [
              1,
              "#f0f921"
             ]
            ],
            "type": "heatmapgl"
           }
          ],
          "histogram": [
           {
            "marker": {
             "pattern": {
              "fillmode": "overlay",
              "size": 10,
              "solidity": 0.2
             }
            },
            "type": "histogram"
           }
          ],
          "histogram2d": [
           {
            "colorbar": {
             "outlinewidth": 0,
             "ticks": ""
            },
            "colorscale": [
             [
              0,
              "#0d0887"
             ],
             [
              0.1111111111111111,
              "#46039f"
             ],
             [
              0.2222222222222222,
              "#7201a8"
             ],
             [
              0.3333333333333333,
              "#9c179e"
             ],
             [
              0.4444444444444444,
              "#bd3786"
             ],
             [
              0.5555555555555556,
              "#d8576b"
             ],
             [
              0.6666666666666666,
              "#ed7953"
             ],
             [
              0.7777777777777778,
              "#fb9f3a"
             ],
             [
              0.8888888888888888,
              "#fdca26"
             ],
             [
              1,
              "#f0f921"
             ]
            ],
            "type": "histogram2d"
           }
          ],
          "histogram2dcontour": [
           {
            "colorbar": {
             "outlinewidth": 0,
             "ticks": ""
            },
            "colorscale": [
             [
              0,
              "#0d0887"
             ],
             [
              0.1111111111111111,
              "#46039f"
             ],
             [
              0.2222222222222222,
              "#7201a8"
             ],
             [
              0.3333333333333333,
              "#9c179e"
             ],
             [
              0.4444444444444444,
              "#bd3786"
             ],
             [
              0.5555555555555556,
              "#d8576b"
             ],
             [
              0.6666666666666666,
              "#ed7953"
             ],
             [
              0.7777777777777778,
              "#fb9f3a"
             ],
             [
              0.8888888888888888,
              "#fdca26"
             ],
             [
              1,
              "#f0f921"
             ]
            ],
            "type": "histogram2dcontour"
           }
          ],
          "mesh3d": [
           {
            "colorbar": {
             "outlinewidth": 0,
             "ticks": ""
            },
            "type": "mesh3d"
           }
          ],
          "parcoords": [
           {
            "line": {
             "colorbar": {
              "outlinewidth": 0,
              "ticks": ""
             }
            },
            "type": "parcoords"
           }
          ],
          "pie": [
           {
            "automargin": true,
            "type": "pie"
           }
          ],
          "scatter": [
           {
            "marker": {
             "colorbar": {
              "outlinewidth": 0,
              "ticks": ""
             }
            },
            "type": "scatter"
           }
          ],
          "scatter3d": [
           {
            "line": {
             "colorbar": {
              "outlinewidth": 0,
              "ticks": ""
             }
            },
            "marker": {
             "colorbar": {
              "outlinewidth": 0,
              "ticks": ""
             }
            },
            "type": "scatter3d"
           }
          ],
          "scattercarpet": [
           {
            "marker": {
             "colorbar": {
              "outlinewidth": 0,
              "ticks": ""
             }
            },
            "type": "scattercarpet"
           }
          ],
          "scattergeo": [
           {
            "marker": {
             "colorbar": {
              "outlinewidth": 0,
              "ticks": ""
             }
            },
            "type": "scattergeo"
           }
          ],
          "scattergl": [
           {
            "marker": {
             "colorbar": {
              "outlinewidth": 0,
              "ticks": ""
             }
            },
            "type": "scattergl"
           }
          ],
          "scattermapbox": [
           {
            "marker": {
             "colorbar": {
              "outlinewidth": 0,
              "ticks": ""
             }
            },
            "type": "scattermapbox"
           }
          ],
          "scatterpolar": [
           {
            "marker": {
             "colorbar": {
              "outlinewidth": 0,
              "ticks": ""
             }
            },
            "type": "scatterpolar"
           }
          ],
          "scatterpolargl": [
           {
            "marker": {
             "colorbar": {
              "outlinewidth": 0,
              "ticks": ""
             }
            },
            "type": "scatterpolargl"
           }
          ],
          "scatterternary": [
           {
            "marker": {
             "colorbar": {
              "outlinewidth": 0,
              "ticks": ""
             }
            },
            "type": "scatterternary"
           }
          ],
          "surface": [
           {
            "colorbar": {
             "outlinewidth": 0,
             "ticks": ""
            },
            "colorscale": [
             [
              0,
              "#0d0887"
             ],
             [
              0.1111111111111111,
              "#46039f"
             ],
             [
              0.2222222222222222,
              "#7201a8"
             ],
             [
              0.3333333333333333,
              "#9c179e"
             ],
             [
              0.4444444444444444,
              "#bd3786"
             ],
             [
              0.5555555555555556,
              "#d8576b"
             ],
             [
              0.6666666666666666,
              "#ed7953"
             ],
             [
              0.7777777777777778,
              "#fb9f3a"
             ],
             [
              0.8888888888888888,
              "#fdca26"
             ],
             [
              1,
              "#f0f921"
             ]
            ],
            "type": "surface"
           }
          ],
          "table": [
           {
            "cells": {
             "fill": {
              "color": "#EBF0F8"
             },
             "line": {
              "color": "white"
             }
            },
            "header": {
             "fill": {
              "color": "#C8D4E3"
             },
             "line": {
              "color": "white"
             }
            },
            "type": "table"
           }
          ]
         },
         "layout": {
          "annotationdefaults": {
           "arrowcolor": "#2a3f5f",
           "arrowhead": 0,
           "arrowwidth": 1
          },
          "autotypenumbers": "strict",
          "coloraxis": {
           "colorbar": {
            "outlinewidth": 0,
            "ticks": ""
           }
          },
          "colorscale": {
           "diverging": [
            [
             0,
             "#8e0152"
            ],
            [
             0.1,
             "#c51b7d"
            ],
            [
             0.2,
             "#de77ae"
            ],
            [
             0.3,
             "#f1b6da"
            ],
            [
             0.4,
             "#fde0ef"
            ],
            [
             0.5,
             "#f7f7f7"
            ],
            [
             0.6,
             "#e6f5d0"
            ],
            [
             0.7,
             "#b8e186"
            ],
            [
             0.8,
             "#7fbc41"
            ],
            [
             0.9,
             "#4d9221"
            ],
            [
             1,
             "#276419"
            ]
           ],
           "sequential": [
            [
             0,
             "#0d0887"
            ],
            [
             0.1111111111111111,
             "#46039f"
            ],
            [
             0.2222222222222222,
             "#7201a8"
            ],
            [
             0.3333333333333333,
             "#9c179e"
            ],
            [
             0.4444444444444444,
             "#bd3786"
            ],
            [
             0.5555555555555556,
             "#d8576b"
            ],
            [
             0.6666666666666666,
             "#ed7953"
            ],
            [
             0.7777777777777778,
             "#fb9f3a"
            ],
            [
             0.8888888888888888,
             "#fdca26"
            ],
            [
             1,
             "#f0f921"
            ]
           ],
           "sequentialminus": [
            [
             0,
             "#0d0887"
            ],
            [
             0.1111111111111111,
             "#46039f"
            ],
            [
             0.2222222222222222,
             "#7201a8"
            ],
            [
             0.3333333333333333,
             "#9c179e"
            ],
            [
             0.4444444444444444,
             "#bd3786"
            ],
            [
             0.5555555555555556,
             "#d8576b"
            ],
            [
             0.6666666666666666,
             "#ed7953"
            ],
            [
             0.7777777777777778,
             "#fb9f3a"
            ],
            [
             0.8888888888888888,
             "#fdca26"
            ],
            [
             1,
             "#f0f921"
            ]
           ]
          },
          "colorway": [
           "#636efa",
           "#EF553B",
           "#00cc96",
           "#ab63fa",
           "#FFA15A",
           "#19d3f3",
           "#FF6692",
           "#B6E880",
           "#FF97FF",
           "#FECB52"
          ],
          "font": {
           "color": "#2a3f5f"
          },
          "geo": {
           "bgcolor": "white",
           "lakecolor": "white",
           "landcolor": "white",
           "showlakes": true,
           "showland": true,
           "subunitcolor": "#C8D4E3"
          },
          "hoverlabel": {
           "align": "left"
          },
          "hovermode": "closest",
          "mapbox": {
           "style": "light"
          },
          "paper_bgcolor": "white",
          "plot_bgcolor": "white",
          "polar": {
           "angularaxis": {
            "gridcolor": "#EBF0F8",
            "linecolor": "#EBF0F8",
            "ticks": ""
           },
           "bgcolor": "white",
           "radialaxis": {
            "gridcolor": "#EBF0F8",
            "linecolor": "#EBF0F8",
            "ticks": ""
           }
          },
          "scene": {
           "xaxis": {
            "backgroundcolor": "white",
            "gridcolor": "#DFE8F3",
            "gridwidth": 2,
            "linecolor": "#EBF0F8",
            "showbackground": true,
            "ticks": "",
            "zerolinecolor": "#EBF0F8"
           },
           "yaxis": {
            "backgroundcolor": "white",
            "gridcolor": "#DFE8F3",
            "gridwidth": 2,
            "linecolor": "#EBF0F8",
            "showbackground": true,
            "ticks": "",
            "zerolinecolor": "#EBF0F8"
           },
           "zaxis": {
            "backgroundcolor": "white",
            "gridcolor": "#DFE8F3",
            "gridwidth": 2,
            "linecolor": "#EBF0F8",
            "showbackground": true,
            "ticks": "",
            "zerolinecolor": "#EBF0F8"
           }
          },
          "shapedefaults": {
           "line": {
            "color": "#2a3f5f"
           }
          },
          "ternary": {
           "aaxis": {
            "gridcolor": "#DFE8F3",
            "linecolor": "#A2B1C6",
            "ticks": ""
           },
           "baxis": {
            "gridcolor": "#DFE8F3",
            "linecolor": "#A2B1C6",
            "ticks": ""
           },
           "bgcolor": "white",
           "caxis": {
            "gridcolor": "#DFE8F3",
            "linecolor": "#A2B1C6",
            "ticks": ""
           }
          },
          "title": {
           "x": 0.05
          },
          "xaxis": {
           "automargin": true,
           "gridcolor": "#EBF0F8",
           "linecolor": "#EBF0F8",
           "ticks": "",
           "title": {
            "standoff": 15
           },
           "zerolinecolor": "#EBF0F8",
           "zerolinewidth": 2
          },
          "yaxis": {
           "automargin": true,
           "gridcolor": "#EBF0F8",
           "linecolor": "#EBF0F8",
           "ticks": "",
           "title": {
            "standoff": 15
           },
           "zerolinecolor": "#EBF0F8",
           "zerolinewidth": 2
          }
         }
        },
        "title": {
         "text": "Obserwowany odsetek niewykonania zobowiązania (ODR) w czasie"
        },
        "width": 900,
        "xaxis": {
         "autorange": true,
         "range": [
          "2014-08-14 16:49:44.9658",
          "2021-07-18 07:10:15.0342"
         ],
         "title": {
          "text": "Miesiąc"
         },
         "type": "date"
        },
        "yaxis": {
         "autorange": true,
         "range": [
          0.02392679785315315,
          0.09015980594884411
         ],
         "tickformat": ".2%",
         "title": {
          "text": "ODR"
         },
         "type": "linear"
        }
       }
      },
      "text/html": [
       "<div>                            <div id=\"368e03d5-e272-48cc-af50-d7a6ebee633e\" class=\"plotly-graph-div\" style=\"height:500px; width:900px;\"></div>            <script type=\"text/javascript\">                require([\"plotly\"], function(Plotly) {                    window.PLOTLYENV=window.PLOTLYENV || {};                                    if (document.getElementById(\"368e03d5-e272-48cc-af50-d7a6ebee633e\")) {                    Plotly.newPlot(                        \"368e03d5-e272-48cc-af50-d7a6ebee633e\",                        [{\"line\":{\"color\":\"royalblue\",\"width\":2},\"marker\":{\"size\":6},\"mode\":\"lines+markers\",\"name\":\"ODR\",\"x\":[\"2015-01-01T00:00:00\",\"2015-02-01T00:00:00\",\"2015-03-01T00:00:00\",\"2015-04-01T00:00:00\",\"2015-05-01T00:00:00\",\"2015-06-01T00:00:00\",\"2015-07-01T00:00:00\",\"2015-08-01T00:00:00\",\"2015-09-01T00:00:00\",\"2015-10-01T00:00:00\",\"2015-11-01T00:00:00\",\"2015-12-01T00:00:00\",\"2016-01-01T00:00:00\",\"2016-02-01T00:00:00\",\"2016-03-01T00:00:00\",\"2016-04-01T00:00:00\",\"2016-05-01T00:00:00\",\"2016-06-01T00:00:00\",\"2016-07-01T00:00:00\",\"2016-08-01T00:00:00\",\"2016-09-01T00:00:00\",\"2016-10-01T00:00:00\",\"2016-11-01T00:00:00\",\"2016-12-01T00:00:00\",\"2017-01-01T00:00:00\",\"2017-02-01T00:00:00\",\"2017-03-01T00:00:00\",\"2017-04-01T00:00:00\",\"2017-05-01T00:00:00\",\"2017-06-01T00:00:00\",\"2017-07-01T00:00:00\",\"2017-08-01T00:00:00\",\"2017-09-01T00:00:00\",\"2017-10-01T00:00:00\",\"2017-11-01T00:00:00\",\"2017-12-01T00:00:00\",\"2018-01-01T00:00:00\",\"2018-02-01T00:00:00\",\"2018-03-01T00:00:00\",\"2018-04-01T00:00:00\",\"2018-05-01T00:00:00\",\"2018-06-01T00:00:00\",\"2018-07-01T00:00:00\",\"2018-08-01T00:00:00\",\"2018-09-01T00:00:00\",\"2018-10-01T00:00:00\",\"2018-11-01T00:00:00\",\"2018-12-01T00:00:00\",\"2019-01-01T00:00:00\",\"2019-02-01T00:00:00\",\"2019-03-01T00:00:00\",\"2019-04-01T00:00:00\",\"2019-05-01T00:00:00\",\"2019-06-01T00:00:00\",\"2019-07-01T00:00:00\",\"2019-08-01T00:00:00\",\"2019-09-01T00:00:00\",\"2019-10-01T00:00:00\",\"2019-11-01T00:00:00\",\"2019-12-01T00:00:00\",\"2020-01-01T00:00:00\",\"2020-02-01T00:00:00\",\"2020-03-01T00:00:00\",\"2020-04-01T00:00:00\",\"2020-05-01T00:00:00\",\"2020-06-01T00:00:00\",\"2020-07-01T00:00:00\",\"2020-08-01T00:00:00\",\"2020-09-01T00:00:00\",\"2020-10-01T00:00:00\",\"2020-11-01T00:00:00\",\"2020-12-01T00:00:00\",\"2021-01-01T00:00:00\",\"2021-02-01T00:00:00\",\"2021-03-01T00:00:00\"],\"y\":[0.06710310965630115,0.0698051948051948,0.06847133757961783,0.06687898089171974,0.06862745098039216,0.07248764415156507,0.0762987012987013,0.07407407407407407,0.07894736842105263,0.07190635451505016,0.07833333333333334,0.07142857142857142,0.0686106346483705,0.06435643564356436,0.058333333333333334,0.06622516556291391,0.06788079470198675,0.05414551607445008,0.058519793459552494,0.05902192242833052,0.054635761589403975,0.05813953488372093,0.05289256198347107,0.05466237942122187,0.06041335453100159,0.06666666666666667,0.07042253521126761,0.06041335453100159,0.0671875,0.0671875,0.07109737248840804,0.06814580031695722,0.061389337641357025,0.06389776357827476,0.06497622820919176,0.06847133757961783,0.08099688473520249,0.08346213292117466,0.08607198748043818,0.08409785932721713,0.07526881720430108,0.07110438729198185,0.07578008915304606,0.07860262008733625,0.07547169811320754,0.07636887608069164,0.07102272727272728,0.06940509915014165,0.06424581005586592,0.06310013717421124,0.06460296096904442,0.06710526315789474,0.061855670103092786,0.06573957016434892,0.0630407911001236,0.05669481302774427,0.05363528009535161,0.0539906103286385,0.05710955710955711,0.05057471264367816,0.050175029171528586,0.05011389521640091,0.04449648711943794,0.03933253873659118,0.039239001189060645,0.03800475059382423,0.0380952380952381,0.028014616321559074,0.031862745098039214,0.033623910336239106,0.03375,0.03875968992248062,0.0395778364116095,0.037991858887381276,0.04103967168262654],\"type\":\"scatter\"}],                        {\"template\":{\"data\":{\"barpolar\":[{\"marker\":{\"line\":{\"color\":\"white\",\"width\":0.5},\"pattern\":{\"fillmode\":\"overlay\",\"size\":10,\"solidity\":0.2}},\"type\":\"barpolar\"}],\"bar\":[{\"error_x\":{\"color\":\"#2a3f5f\"},\"error_y\":{\"color\":\"#2a3f5f\"},\"marker\":{\"line\":{\"color\":\"white\",\"width\":0.5},\"pattern\":{\"fillmode\":\"overlay\",\"size\":10,\"solidity\":0.2}},\"type\":\"bar\"}],\"carpet\":[{\"aaxis\":{\"endlinecolor\":\"#2a3f5f\",\"gridcolor\":\"#C8D4E3\",\"linecolor\":\"#C8D4E3\",\"minorgridcolor\":\"#C8D4E3\",\"startlinecolor\":\"#2a3f5f\"},\"baxis\":{\"endlinecolor\":\"#2a3f5f\",\"gridcolor\":\"#C8D4E3\",\"linecolor\":\"#C8D4E3\",\"minorgridcolor\":\"#C8D4E3\",\"startlinecolor\":\"#2a3f5f\"},\"type\":\"carpet\"}],\"choropleth\":[{\"colorbar\":{\"outlinewidth\":0,\"ticks\":\"\"},\"type\":\"choropleth\"}],\"contourcarpet\":[{\"colorbar\":{\"outlinewidth\":0,\"ticks\":\"\"},\"type\":\"contourcarpet\"}],\"contour\":[{\"colorbar\":{\"outlinewidth\":0,\"ticks\":\"\"},\"colorscale\":[[0.0,\"#0d0887\"],[0.1111111111111111,\"#46039f\"],[0.2222222222222222,\"#7201a8\"],[0.3333333333333333,\"#9c179e\"],[0.4444444444444444,\"#bd3786\"],[0.5555555555555556,\"#d8576b\"],[0.6666666666666666,\"#ed7953\"],[0.7777777777777778,\"#fb9f3a\"],[0.8888888888888888,\"#fdca26\"],[1.0,\"#f0f921\"]],\"type\":\"contour\"}],\"heatmapgl\":[{\"colorbar\":{\"outlinewidth\":0,\"ticks\":\"\"},\"colorscale\":[[0.0,\"#0d0887\"],[0.1111111111111111,\"#46039f\"],[0.2222222222222222,\"#7201a8\"],[0.3333333333333333,\"#9c179e\"],[0.4444444444444444,\"#bd3786\"],[0.5555555555555556,\"#d8576b\"],[0.6666666666666666,\"#ed7953\"],[0.7777777777777778,\"#fb9f3a\"],[0.8888888888888888,\"#fdca26\"],[1.0,\"#f0f921\"]],\"type\":\"heatmapgl\"}],\"heatmap\":[{\"colorbar\":{\"outlinewidth\":0,\"ticks\":\"\"},\"colorscale\":[[0.0,\"#0d0887\"],[0.1111111111111111,\"#46039f\"],[0.2222222222222222,\"#7201a8\"],[0.3333333333333333,\"#9c179e\"],[0.4444444444444444,\"#bd3786\"],[0.5555555555555556,\"#d8576b\"],[0.6666666666666666,\"#ed7953\"],[0.7777777777777778,\"#fb9f3a\"],[0.8888888888888888,\"#fdca26\"],[1.0,\"#f0f921\"]],\"type\":\"heatmap\"}],\"histogram2dcontour\":[{\"colorbar\":{\"outlinewidth\":0,\"ticks\":\"\"},\"colorscale\":[[0.0,\"#0d0887\"],[0.1111111111111111,\"#46039f\"],[0.2222222222222222,\"#7201a8\"],[0.3333333333333333,\"#9c179e\"],[0.4444444444444444,\"#bd3786\"],[0.5555555555555556,\"#d8576b\"],[0.6666666666666666,\"#ed7953\"],[0.7777777777777778,\"#fb9f3a\"],[0.8888888888888888,\"#fdca26\"],[1.0,\"#f0f921\"]],\"type\":\"histogram2dcontour\"}],\"histogram2d\":[{\"colorbar\":{\"outlinewidth\":0,\"ticks\":\"\"},\"colorscale\":[[0.0,\"#0d0887\"],[0.1111111111111111,\"#46039f\"],[0.2222222222222222,\"#7201a8\"],[0.3333333333333333,\"#9c179e\"],[0.4444444444444444,\"#bd3786\"],[0.5555555555555556,\"#d8576b\"],[0.6666666666666666,\"#ed7953\"],[0.7777777777777778,\"#fb9f3a\"],[0.8888888888888888,\"#fdca26\"],[1.0,\"#f0f921\"]],\"type\":\"histogram2d\"}],\"histogram\":[{\"marker\":{\"pattern\":{\"fillmode\":\"overlay\",\"size\":10,\"solidity\":0.2}},\"type\":\"histogram\"}],\"mesh3d\":[{\"colorbar\":{\"outlinewidth\":0,\"ticks\":\"\"},\"type\":\"mesh3d\"}],\"parcoords\":[{\"line\":{\"colorbar\":{\"outlinewidth\":0,\"ticks\":\"\"}},\"type\":\"parcoords\"}],\"pie\":[{\"automargin\":true,\"type\":\"pie\"}],\"scatter3d\":[{\"line\":{\"colorbar\":{\"outlinewidth\":0,\"ticks\":\"\"}},\"marker\":{\"colorbar\":{\"outlinewidth\":0,\"ticks\":\"\"}},\"type\":\"scatter3d\"}],\"scattercarpet\":[{\"marker\":{\"colorbar\":{\"outlinewidth\":0,\"ticks\":\"\"}},\"type\":\"scattercarpet\"}],\"scattergeo\":[{\"marker\":{\"colorbar\":{\"outlinewidth\":0,\"ticks\":\"\"}},\"type\":\"scattergeo\"}],\"scattergl\":[{\"marker\":{\"colorbar\":{\"outlinewidth\":0,\"ticks\":\"\"}},\"type\":\"scattergl\"}],\"scattermapbox\":[{\"marker\":{\"colorbar\":{\"outlinewidth\":0,\"ticks\":\"\"}},\"type\":\"scattermapbox\"}],\"scatterpolargl\":[{\"marker\":{\"colorbar\":{\"outlinewidth\":0,\"ticks\":\"\"}},\"type\":\"scatterpolargl\"}],\"scatterpolar\":[{\"marker\":{\"colorbar\":{\"outlinewidth\":0,\"ticks\":\"\"}},\"type\":\"scatterpolar\"}],\"scatter\":[{\"marker\":{\"colorbar\":{\"outlinewidth\":0,\"ticks\":\"\"}},\"type\":\"scatter\"}],\"scatterternary\":[{\"marker\":{\"colorbar\":{\"outlinewidth\":0,\"ticks\":\"\"}},\"type\":\"scatterternary\"}],\"surface\":[{\"colorbar\":{\"outlinewidth\":0,\"ticks\":\"\"},\"colorscale\":[[0.0,\"#0d0887\"],[0.1111111111111111,\"#46039f\"],[0.2222222222222222,\"#7201a8\"],[0.3333333333333333,\"#9c179e\"],[0.4444444444444444,\"#bd3786\"],[0.5555555555555556,\"#d8576b\"],[0.6666666666666666,\"#ed7953\"],[0.7777777777777778,\"#fb9f3a\"],[0.8888888888888888,\"#fdca26\"],[1.0,\"#f0f921\"]],\"type\":\"surface\"}],\"table\":[{\"cells\":{\"fill\":{\"color\":\"#EBF0F8\"},\"line\":{\"color\":\"white\"}},\"header\":{\"fill\":{\"color\":\"#C8D4E3\"},\"line\":{\"color\":\"white\"}},\"type\":\"table\"}]},\"layout\":{\"annotationdefaults\":{\"arrowcolor\":\"#2a3f5f\",\"arrowhead\":0,\"arrowwidth\":1},\"autotypenumbers\":\"strict\",\"coloraxis\":{\"colorbar\":{\"outlinewidth\":0,\"ticks\":\"\"}},\"colorscale\":{\"diverging\":[[0,\"#8e0152\"],[0.1,\"#c51b7d\"],[0.2,\"#de77ae\"],[0.3,\"#f1b6da\"],[0.4,\"#fde0ef\"],[0.5,\"#f7f7f7\"],[0.6,\"#e6f5d0\"],[0.7,\"#b8e186\"],[0.8,\"#7fbc41\"],[0.9,\"#4d9221\"],[1,\"#276419\"]],\"sequential\":[[0.0,\"#0d0887\"],[0.1111111111111111,\"#46039f\"],[0.2222222222222222,\"#7201a8\"],[0.3333333333333333,\"#9c179e\"],[0.4444444444444444,\"#bd3786\"],[0.5555555555555556,\"#d8576b\"],[0.6666666666666666,\"#ed7953\"],[0.7777777777777778,\"#fb9f3a\"],[0.8888888888888888,\"#fdca26\"],[1.0,\"#f0f921\"]],\"sequentialminus\":[[0.0,\"#0d0887\"],[0.1111111111111111,\"#46039f\"],[0.2222222222222222,\"#7201a8\"],[0.3333333333333333,\"#9c179e\"],[0.4444444444444444,\"#bd3786\"],[0.5555555555555556,\"#d8576b\"],[0.6666666666666666,\"#ed7953\"],[0.7777777777777778,\"#fb9f3a\"],[0.8888888888888888,\"#fdca26\"],[1.0,\"#f0f921\"]]},\"colorway\":[\"#636efa\",\"#EF553B\",\"#00cc96\",\"#ab63fa\",\"#FFA15A\",\"#19d3f3\",\"#FF6692\",\"#B6E880\",\"#FF97FF\",\"#FECB52\"],\"font\":{\"color\":\"#2a3f5f\"},\"geo\":{\"bgcolor\":\"white\",\"lakecolor\":\"white\",\"landcolor\":\"white\",\"showlakes\":true,\"showland\":true,\"subunitcolor\":\"#C8D4E3\"},\"hoverlabel\":{\"align\":\"left\"},\"hovermode\":\"closest\",\"mapbox\":{\"style\":\"light\"},\"paper_bgcolor\":\"white\",\"plot_bgcolor\":\"white\",\"polar\":{\"angularaxis\":{\"gridcolor\":\"#EBF0F8\",\"linecolor\":\"#EBF0F8\",\"ticks\":\"\"},\"bgcolor\":\"white\",\"radialaxis\":{\"gridcolor\":\"#EBF0F8\",\"linecolor\":\"#EBF0F8\",\"ticks\":\"\"}},\"scene\":{\"xaxis\":{\"backgroundcolor\":\"white\",\"gridcolor\":\"#DFE8F3\",\"gridwidth\":2,\"linecolor\":\"#EBF0F8\",\"showbackground\":true,\"ticks\":\"\",\"zerolinecolor\":\"#EBF0F8\"},\"yaxis\":{\"backgroundcolor\":\"white\",\"gridcolor\":\"#DFE8F3\",\"gridwidth\":2,\"linecolor\":\"#EBF0F8\",\"showbackground\":true,\"ticks\":\"\",\"zerolinecolor\":\"#EBF0F8\"},\"zaxis\":{\"backgroundcolor\":\"white\",\"gridcolor\":\"#DFE8F3\",\"gridwidth\":2,\"linecolor\":\"#EBF0F8\",\"showbackground\":true,\"ticks\":\"\",\"zerolinecolor\":\"#EBF0F8\"}},\"shapedefaults\":{\"line\":{\"color\":\"#2a3f5f\"}},\"ternary\":{\"aaxis\":{\"gridcolor\":\"#DFE8F3\",\"linecolor\":\"#A2B1C6\",\"ticks\":\"\"},\"baxis\":{\"gridcolor\":\"#DFE8F3\",\"linecolor\":\"#A2B1C6\",\"ticks\":\"\"},\"bgcolor\":\"white\",\"caxis\":{\"gridcolor\":\"#DFE8F3\",\"linecolor\":\"#A2B1C6\",\"ticks\":\"\"}},\"title\":{\"x\":0.05},\"xaxis\":{\"automargin\":true,\"gridcolor\":\"#EBF0F8\",\"linecolor\":\"#EBF0F8\",\"ticks\":\"\",\"title\":{\"standoff\":15},\"zerolinecolor\":\"#EBF0F8\",\"zerolinewidth\":2},\"yaxis\":{\"automargin\":true,\"gridcolor\":\"#EBF0F8\",\"linecolor\":\"#EBF0F8\",\"ticks\":\"\",\"title\":{\"standoff\":15},\"zerolinecolor\":\"#EBF0F8\",\"zerolinewidth\":2}}},\"yaxis\":{\"title\":{\"text\":\"ODR\"},\"tickformat\":\".2%\"},\"title\":{\"text\":\"Obserwowany odsetek niewykonania zobowi\\u0105zania (ODR) w czasie\"},\"xaxis\":{\"title\":{\"text\":\"Miesi\\u0105c\"}},\"hovermode\":\"x unified\",\"width\":900,\"height\":500},                        {\"responsive\": true}                    ).then(function(){\n",
       "                            \n",
       "var gd = document.getElementById('368e03d5-e272-48cc-af50-d7a6ebee633e');\n",
       "var x = new MutationObserver(function (mutations, observer) {{\n",
       "        var display = window.getComputedStyle(gd).display;\n",
       "        if (!display || display === 'none') {{\n",
       "            console.log([gd, 'removed!']);\n",
       "            Plotly.purge(gd);\n",
       "            observer.disconnect();\n",
       "        }}\n",
       "}});\n",
       "\n",
       "// Listen for the removal of the full notebook cells\n",
       "var notebookContainer = gd.closest('#notebook-container');\n",
       "if (notebookContainer) {{\n",
       "    x.observe(notebookContainer, {childList: true});\n",
       "}}\n",
       "\n",
       "// Listen for the clearing of the current output cell\n",
       "var outputEl = gd.closest('.output');\n",
       "if (outputEl) {{\n",
       "    x.observe(outputEl, {childList: true});\n",
       "}}\n",
       "\n",
       "                        })                };                });            </script>        </div>"
      ]
     },
     "metadata": {},
     "output_type": "display_data"
    }
   ],
   "source": [
    "df_odr_miesiac = df_kredyty.loc[(df_kredyty.fl_npl_adj == 0) & (df_kredyty.def_12m.notna())].groupby(df_kredyty['period_dte'].dt.to_period('M'))['def_12m'].mean().reset_index()\n",
    "\n",
    "df_odr_miesiac['period_dte'] = df_odr_miesiac['period_dte'].dt.to_timestamp()\n",
    "df_odr_miesiac.rename(columns={'def_12m': 'ODR'}, inplace=True)\n",
    "\n",
    "fig = go.Figure()\n",
    "\n",
    "fig.add_trace(go.Scatter(\n",
    "    x=df_odr_miesiac['period_dte'],\n",
    "    y=df_odr_miesiac['ODR'],\n",
    "    mode='lines+markers',\n",
    "    name='ODR',\n",
    "    line=dict(color='royalblue', width=2),\n",
    "    marker=dict(size=6)\n",
    "))\n",
    "\n",
    "\n",
    "fig.update_layout(\n",
    "    title='Obserwowany odsetek niewykonania zobowiązania (ODR) w czasie',\n",
    "    xaxis_title='Miesiąc',\n",
    "    yaxis_title='ODR',\n",
    "    yaxis_tickformat='.2%',\n",
    "    template='plotly_white',\n",
    "    hovermode='x unified',\n",
    "    width=900,\n",
    "    height=500\n",
    ")\n",
    "\n",
    "fig.show()"
   ]
  },
  {
   "cell_type": "markdown",
   "id": "769e9a42-cfaa-420e-9f0b-02ba567cf77f",
   "metadata": {},
   "source": [
    "Widzimy wyraźną tendencję spadkową – od wartości przekraczających 8% w latach 2017–2018 do poziomu poniżej 5% na początku 2021 roku. W ostatnich miesiącach obserwuje się delikatne odbicie, mogące sygnalizować zmianę trendu.\n",
    "\n",
    "***  \n",
    "\n",
    "## Część III  \n",
    "\n",
    "W tej części analizy skupiamy się na podziale portfela kredytowego w celu przypisania poszczególnym grupom obserwowanego prawdopodobieństwa niewykonania zobowiązania (PD). W tym celu zastosowano podejście oparte na prostym drzewie decyzyjnym.  \n",
    "\n",
    "Na podstawie obserwacji należących do portfela pracującego i posiadających pełną ścieżkę obserwacyjną w horyzoncie 12 miesięcy, zbudujemy model regresyjny typu *DecisionTreeRegressor*. Jako predyktor wykorzystano zmienną *bal_amt*, czyli pozostała kwota do spłaty, natomiast zmienną celu stanowiła wartość *def_12m* – informująca, czy w ciągu kolejnego roku wystąpił default.  \n",
    "\n",
    "W ramach każdej grupy wyliczono:  \n",
    "\n",
    "- **COUNT** – liczbę ekspozycji,  \n",
    "\n",
    "- **DEFAULT_COUNT** – liczbę przypadków defaultu,  \n",
    "\n",
    "- **PD** – średnie prawdopodobieństwo defaultu (czyli udział def_12m = 1).  \n",
    "\n",
    "Wynikowe grupy można traktować jako kategorie ryzyka, którym przypisano empirycznie wyznaczoną wartość PD."
   ]
  },
  {
   "cell_type": "code",
   "execution_count": 45,
   "id": "81140d4f-5b1b-471f-9c2c-ab673851617b",
   "metadata": {},
   "outputs": [
    {
     "data": {
      "image/png": "[encoded data removed]",
      "text/plain": [
       "<Figure size 1500x600 with 1 Axes>"
      ]
     },
     "metadata": {},
     "output_type": "display_data"
    }
   ],
   "source": [
    "from sklearn import tree\n",
    "X_model = df_kredyty.loc[(df_kredyty.fl_npl_adj == 0) & (df_kredyty.def_12m.isna()==False), ['bal_amt']].reset_index(drop=True)\n",
    "Y_model = df_kredyty.loc[(df_kredyty.fl_npl_adj == 0) & (df_kredyty.def_12m.isna()==False), ['def_12m']].reset_index(drop=True)\n",
    "\n",
    "clf = tree.DecisionTreeRegressor(max_depth=2, min_samples_leaf=0.05)\n",
    "clf = clf.fit(X=X_model, y=Y_model)\n",
    "\n",
    "import matplotlib.pyplot as plt\n",
    "plt.figure(figsize=(15,6))\n",
    "tree.plot_tree(clf, feature_names=X_model.columns, class_names=Y_model.columns, filled=True, fontsize=10, node_ids=True, impurity=True, rounded=True)\n",
    "plt.show()"
   ]
  },
  {
   "cell_type": "code",
   "execution_count": 46,
   "id": "ca11197b-37fc-4d57-8a70-67b900e9c016",
   "metadata": {},
   "outputs": [
    {
     "data": {
      "text/html": [
       "<div>\n",
       "<style scoped>\n",
       "    .dataframe tbody tr th:only-of-type {\n",
       "        vertical-align: middle;\n",
       "    }\n",
       "\n",
       "    .dataframe tbody tr th {\n",
       "        vertical-align: top;\n",
       "    }\n",
       "\n",
       "    .dataframe thead th {\n",
       "        text-align: right;\n",
       "    }\n",
       "</style>\n",
       "<table border=\"1\" class=\"dataframe\">\n",
       "  <thead>\n",
       "    <tr style=\"text-align: right;\">\n",
       "      <th></th>\n",
       "      <th>GR</th>\n",
       "      <th>COUNT</th>\n",
       "      <th>DEFAULT_COUNT</th>\n",
       "      <th>PD</th>\n",
       "    </tr>\n",
       "  </thead>\n",
       "  <tbody>\n",
       "    <tr>\n",
       "      <th>0</th>\n",
       "      <td>2</td>\n",
       "      <td>30253</td>\n",
       "      <td>1528.0</td>\n",
       "      <td>0.050507</td>\n",
       "    </tr>\n",
       "    <tr>\n",
       "      <th>1</th>\n",
       "      <td>3</td>\n",
       "      <td>17095</td>\n",
       "      <td>1094.0</td>\n",
       "      <td>0.063995</td>\n",
       "    </tr>\n",
       "    <tr>\n",
       "      <th>2</th>\n",
       "      <td>4</td>\n",
       "      <td>4593</td>\n",
       "      <td>507.0</td>\n",
       "      <td>0.110385</td>\n",
       "    </tr>\n",
       "  </tbody>\n",
       "</table>\n",
       "</div>"
      ],
      "text/plain": [
       "   GR  COUNT  DEFAULT_COUNT        PD\n",
       "0   2  30253         1528.0  0.050507\n",
       "1   3  17095         1094.0  0.063995\n",
       "2   4   4593          507.0  0.110385"
      ]
     },
     "execution_count": 46,
     "metadata": {},
     "output_type": "execute_result"
    }
   ],
   "source": [
    "X_model['GR'] = pd.Series(clf.apply(X_model))\n",
    "X_model['def_12m'] = Y_model.copy()\n",
    "\n",
    "X_model.groupby('GR', as_index=False).agg(COUNT = ('def_12m', 'count'), DEFAULT_COUNT = ('def_12m', 'sum'), PD = ('def_12m', 'mean'))"
   ]
  },
  {
   "cell_type": "markdown",
   "id": "4fb58b0b-8ec2-43fd-a74d-dfbac759eb38",
   "metadata": {},
   "source": [
    "Każdy liść drzewa odpowiada jednej grupie ryzyka (GR), a średnia wartość węzła reprezentuje empiryczne prawdopodobieństwo wystąpienia niewykonania zobowiązania (PD) dla danej grupy. W szczególności:  \n",
    "\n",
    "- Obserwaccje o niskim saldzie (≤ 3 138 zł) charakteryzują się najniższym PD (ok. 5,1%),  \n",
    "\n",
    "- Obserwacje średnie (3 138 zł – 10 755 zł) mają nieco wyższe ryzyko (6,4%),  \n",
    "\n",
    "- Obserwacje wysokie (> 10 755 zł) wyróżniają się najwyższym PD (ok. 11%).\n",
    "\n",
    "Grupy te można traktować jako segmenty portfela o rosnącym poziomie ryzyka kredytowego, które mogą posłużyć do dalszego modelowania PD, scoringu lub alokacji kapitału według ryzyka."
   ]
  },
  {
   "cell_type": "code",
   "execution_count": null,
   "id": "09eb30c0-51ae-4863-bf12-6d4feef60580",
   "metadata": {},
   "outputs": [],
   "source": []
  }
 ],
 "metadata": {
  "kernelspec": {
   "display_name": "Python 3 (ipykernel)",
   "language": "python",
   "name": "python3"
  },
  "language_info": {
   "codemirror_mode": {
    "name": "ipython",
    "version": 3
   },
   "file_extension": ".py",
   "mimetype": "text/x-python",
   "name": "python",
   "nbconvert_exporter": "python",
   "pygments_lexer": "ipython3",
   "version": "3.11.4"
  },
  "widgets": {
   "application/vnd.jupyter.widget-state+json": {
    "state": {},
    "version_major": 2,
    "version_minor": 0
   }
  }
 },
 "nbformat": 4,
 "nbformat_minor": 5
}
